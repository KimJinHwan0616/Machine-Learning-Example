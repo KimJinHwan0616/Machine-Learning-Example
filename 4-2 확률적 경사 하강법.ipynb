{
 "cells": [
  {
   "cell_type": "code",
   "execution_count": 1,
   "id": "2fe8e8fd-b9e7-4873-a490-dae60db0b298",
   "metadata": {},
   "outputs": [],
   "source": [
    "import pandas as pd\n",
    "import numpy as np\n",
    "import matplotlib.pyplot as plt\n",
    "\n",
    "#   패키지 설치\n",
    "#   pip install sklearn\n",
    "\n",
    "from sklearn.preprocessing import StandardScaler, MinMaxScaler\n",
    "from sklearn.preprocessing import LabelEncoder, OneHotEncoder\n",
    "from sklearn.model_selection import train_test_split\n",
    "\n",
    "# 모델 학습\n",
    "from sklearn.neighbors import KNeighborsRegressor\n",
    "from sklearn.linear_model import LinearRegression, Ridge, Lasso\n",
    "from sklearn.preprocessing import PolynomialFeatures\n",
    "from sklearn.linear_model import SGDRegressor\n",
    "\n",
    "from sklearn.linear_model import LogisticRegression\n",
    "from sklearn.linear_model import SGDClassifier\n",
    "from sklearn.naive_bayes import MultinomialNB\n",
    "from sklearn.svm import SVC\n",
    "from sklearn.tree import DecisionTreeClassifier\n",
    "from sklearn.neighbors import KNeighborsClassifier\n",
    "\n",
    "from sklearn.ensemble import VotingClassifier, BaggingClassifier\n",
    "from sklearn.ensemble import RandomForestClassifier, ExtraTreesClassifier\n",
    "\n",
    "from sklearn.ensemble import AdaBoostClassifier, GradientBoostingClassifier, HistGradientBoostingClassifier\n",
    "from xgboost import XGBClassifier\n",
    "from lightgbm import LGBMClassifier\n",
    "\n",
    "from sklearn.cluster import KMeans\n",
    "from sklearn.decomposition import PCA\n",
    "\n",
    "# 성능 조절\n",
    "from sklearn.model_selection import cross_validate, StratifiedKFold, KFold\n",
    "from sklearn.model_selection import GridSearchCV, RandomizedSearchCV\n",
    "from scipy.stats import uniform, randint\n",
    "\n",
    "# 성능 평가\n",
    "from sklearn.metrics import confusion_matrix\n",
    "from sklearn.metrics import accuracy_score, precision_score, recall_score\n",
    "from sklearn.metrics import roc_auc_score\n",
    "\n",
    "from sklearn.metrics import mean_squared_error, r2_score\n",
    "\n",
    "from sklearn.metrics import silhouette_score\n",
    "\n",
    "# 경고 메세지 숨김\n",
    "import warnings     \n",
    "warnings.filterwarnings('ignore')"
   ]
  },
  {
   "cell_type": "markdown",
   "id": "07236178-6877-4c99-bc75-8870ac9711de",
   "metadata": {
    "tags": []
   },
   "source": [
    "## 테이블 열기"
   ]
  },
  {
   "cell_type": "code",
   "execution_count": 2,
   "id": "e8a885dd-7b2a-406c-a547-f24cdbce98c8",
   "metadata": {},
   "outputs": [],
   "source": [
    "fish = pd.read_csv('https://bit.ly/fish_csv_data')"
   ]
  },
  {
   "cell_type": "code",
   "execution_count": 3,
   "id": "0f6bf10b-6e4b-48b9-a2e7-267e67af88df",
   "metadata": {},
   "outputs": [],
   "source": [
    "# 특성\n",
    "fish_data = fish.iloc[:, 1:]\n",
    "\n",
    "# 타겟\n",
    "fish_target = fish.iloc[:, 0]"
   ]
  },
  {
   "cell_type": "markdown",
   "id": "b9227c8c-4707-4ef2-8f6d-d48b04e69f05",
   "metadata": {},
   "source": [
    "# 데이터 분할"
   ]
  },
  {
   "cell_type": "code",
   "execution_count": 4,
   "id": "cddf8e75-a8be-4456-901c-7fd140a51f37",
   "metadata": {},
   "outputs": [],
   "source": [
    "data = fish_data       # 특성\n",
    "target = fish_target     # 정답\n",
    "\n",
    "xtrain, xtest, ytrain, ytest = train_test_split(\n",
    " \n",
    "    data, target             # x: 특성, y: 정답\n",
    "    , test_size = 0.25       # 테스트 데이터 비율(0~1)\n",
    "#    , stratify = target      # 계층화(훈련＆테스트 데이터 비율: x=y)\n",
    "    , random_state = 42     # 랜덤 시드\n",
    "    )"
   ]
  },
  {
   "cell_type": "markdown",
   "id": "02d11195-f134-4c84-a31b-588c0684e6eb",
   "metadata": {},
   "source": [
    "# 데이터 스케일링(표준화)"
   ]
  },
  {
   "cell_type": "code",
   "execution_count": 5,
   "id": "1777c4ea-937b-4c49-93ae-e71a67b48429",
   "metadata": {},
   "outputs": [],
   "source": [
    "ss = StandardScaler()\n",
    "\n",
    "xtrain_scaled = ss.fit_transform(xtrain)    # 훈련 데이터 → 표준화\n",
    "xtest_scaled = ss.transform(xtest)          # 테스트 데이터 → 표준화"
   ]
  },
  {
   "cell_type": "markdown",
   "id": "b59c09b4-f61e-4409-befc-0e7c383ff88d",
   "metadata": {},
   "source": [
    "# 확률적 경사 하강법"
   ]
  },
  {
   "cell_type": "code",
   "execution_count": 6,
   "id": "92d2c219-40fb-46ab-8c48-8a8b261112d2",
   "metadata": {},
   "outputs": [
    {
     "data": {
      "text/plain": [
       "array(['Bream', 'Parkki', 'Perch', 'Pike', 'Roach', 'Smelt', 'Whitefish'],\n",
       "      dtype='<U9')"
      ]
     },
     "execution_count": 6,
     "metadata": {},
     "output_type": "execute_result"
    }
   ],
   "source": [
    "from sklearn.linear_model import SGDClassifier\n",
    "\n",
    "sgdc = SGDClassifier(\n",
    "    loss = 'log'             # 손실 함수\n",
    "    , max_iter = 10         # 에포크 횟수\n",
    "    , random_state = 42    # 랜덤 시드\n",
    "    )\n",
    "\n",
    "# (분류)변수.fit( xtrain, ytrain )              # 모델 학습\n",
    "sgdc.fit( xtrain_scaled, ytrain )         # 모델 학습(스케일링)\n",
    "sgdc.classes_       # 타겟 목록\n",
    "\n",
    "# (분류)변수.score( xtrain, ytrain )            # 훈련 데이터 정확도\n",
    "# (분류)변수.score( xtest, ytest )              # 테스트 데이터 정확도"
   ]
  },
  {
   "cell_type": "code",
   "execution_count": 7,
   "id": "316984dd-271d-4f07-a8e1-5b127776e602",
   "metadata": {},
   "outputs": [
    {
     "data": {
      "text/plain": [
       "0.773109243697479"
      ]
     },
     "execution_count": 7,
     "metadata": {},
     "output_type": "execute_result"
    }
   ],
   "source": [
    "sgdc.score( xtrain_scaled, ytrain )     # 훈련 데이터 정확도(스케일링)"
   ]
  },
  {
   "cell_type": "code",
   "execution_count": 8,
   "id": "51dae781-f19b-48a3-9dc4-fea7d4c2206b",
   "metadata": {},
   "outputs": [
    {
     "data": {
      "text/plain": [
       "0.775"
      ]
     },
     "execution_count": 8,
     "metadata": {},
     "output_type": "execute_result"
    }
   ],
   "source": [
    "sgdc.score( xtest_scaled, ytest )       # 테스트 데이터 정확도(스케일링)"
   ]
  },
  {
   "cell_type": "markdown",
   "id": "8630931b-7d75-4401-9e36-4cfadaaafadf",
   "metadata": {},
   "source": [
    "## 훈련 데이터 추가 학습"
   ]
  },
  {
   "cell_type": "code",
   "execution_count": 9,
   "id": "6b858fa2-795a-4461-9af4-f074eeb98f74",
   "metadata": {},
   "outputs": [
    {
     "data": {
      "text/html": [
       "<style>#sk-container-id-1 {color: black;background-color: white;}#sk-container-id-1 pre{padding: 0;}#sk-container-id-1 div.sk-toggleable {background-color: white;}#sk-container-id-1 label.sk-toggleable__label {cursor: pointer;display: block;width: 100%;margin-bottom: 0;padding: 0.3em;box-sizing: border-box;text-align: center;}#sk-container-id-1 label.sk-toggleable__label-arrow:before {content: \"▸\";float: left;margin-right: 0.25em;color: #696969;}#sk-container-id-1 label.sk-toggleable__label-arrow:hover:before {color: black;}#sk-container-id-1 div.sk-estimator:hover label.sk-toggleable__label-arrow:before {color: black;}#sk-container-id-1 div.sk-toggleable__content {max-height: 0;max-width: 0;overflow: hidden;text-align: left;background-color: #f0f8ff;}#sk-container-id-1 div.sk-toggleable__content pre {margin: 0.2em;color: black;border-radius: 0.25em;background-color: #f0f8ff;}#sk-container-id-1 input.sk-toggleable__control:checked~div.sk-toggleable__content {max-height: 200px;max-width: 100%;overflow: auto;}#sk-container-id-1 input.sk-toggleable__control:checked~label.sk-toggleable__label-arrow:before {content: \"▾\";}#sk-container-id-1 div.sk-estimator input.sk-toggleable__control:checked~label.sk-toggleable__label {background-color: #d4ebff;}#sk-container-id-1 div.sk-label input.sk-toggleable__control:checked~label.sk-toggleable__label {background-color: #d4ebff;}#sk-container-id-1 input.sk-hidden--visually {border: 0;clip: rect(1px 1px 1px 1px);clip: rect(1px, 1px, 1px, 1px);height: 1px;margin: -1px;overflow: hidden;padding: 0;position: absolute;width: 1px;}#sk-container-id-1 div.sk-estimator {font-family: monospace;background-color: #f0f8ff;border: 1px dotted black;border-radius: 0.25em;box-sizing: border-box;margin-bottom: 0.5em;}#sk-container-id-1 div.sk-estimator:hover {background-color: #d4ebff;}#sk-container-id-1 div.sk-parallel-item::after {content: \"\";width: 100%;border-bottom: 1px solid gray;flex-grow: 1;}#sk-container-id-1 div.sk-label:hover label.sk-toggleable__label {background-color: #d4ebff;}#sk-container-id-1 div.sk-serial::before {content: \"\";position: absolute;border-left: 1px solid gray;box-sizing: border-box;top: 0;bottom: 0;left: 50%;z-index: 0;}#sk-container-id-1 div.sk-serial {display: flex;flex-direction: column;align-items: center;background-color: white;padding-right: 0.2em;padding-left: 0.2em;position: relative;}#sk-container-id-1 div.sk-item {position: relative;z-index: 1;}#sk-container-id-1 div.sk-parallel {display: flex;align-items: stretch;justify-content: center;background-color: white;position: relative;}#sk-container-id-1 div.sk-item::before, #sk-container-id-1 div.sk-parallel-item::before {content: \"\";position: absolute;border-left: 1px solid gray;box-sizing: border-box;top: 0;bottom: 0;left: 50%;z-index: -1;}#sk-container-id-1 div.sk-parallel-item {display: flex;flex-direction: column;z-index: 1;position: relative;background-color: white;}#sk-container-id-1 div.sk-parallel-item:first-child::after {align-self: flex-end;width: 50%;}#sk-container-id-1 div.sk-parallel-item:last-child::after {align-self: flex-start;width: 50%;}#sk-container-id-1 div.sk-parallel-item:only-child::after {width: 0;}#sk-container-id-1 div.sk-dashed-wrapped {border: 1px dashed gray;margin: 0 0.4em 0.5em 0.4em;box-sizing: border-box;padding-bottom: 0.4em;background-color: white;}#sk-container-id-1 div.sk-label label {font-family: monospace;font-weight: bold;display: inline-block;line-height: 1.2em;}#sk-container-id-1 div.sk-label-container {text-align: center;}#sk-container-id-1 div.sk-container {/* jupyter's `normalize.less` sets `[hidden] { display: none; }` but bootstrap.min.css set `[hidden] { display: none !important; }` so we also need the `!important` here to be able to override the default hidden behavior on the sphinx rendered scikit-learn.org. See: https://github.com/scikit-learn/scikit-learn/issues/21755 */display: inline-block !important;position: relative;}#sk-container-id-1 div.sk-text-repr-fallback {display: none;}</style><div id=\"sk-container-id-1\" class=\"sk-top-container\"><div class=\"sk-text-repr-fallback\"><pre>SGDClassifier(loss=&#x27;log&#x27;, max_iter=10, random_state=42)</pre><b>In a Jupyter environment, please rerun this cell to show the HTML representation or trust the notebook. <br />On GitHub, the HTML representation is unable to render, please try loading this page with nbviewer.org.</b></div><div class=\"sk-container\" hidden><div class=\"sk-item\"><div class=\"sk-estimator sk-toggleable\"><input class=\"sk-toggleable__control sk-hidden--visually\" id=\"sk-estimator-id-1\" type=\"checkbox\" checked><label for=\"sk-estimator-id-1\" class=\"sk-toggleable__label sk-toggleable__label-arrow\">SGDClassifier</label><div class=\"sk-toggleable__content\"><pre>SGDClassifier(loss=&#x27;log&#x27;, max_iter=10, random_state=42)</pre></div></div></div></div></div>"
      ],
      "text/plain": [
       "SGDClassifier(loss='log', max_iter=10, random_state=42)"
      ]
     },
     "execution_count": 9,
     "metadata": {},
     "output_type": "execute_result"
    }
   ],
   "source": [
    "sgdc.partial_fit( xtrain_scaled, ytrain )"
   ]
  },
  {
   "cell_type": "code",
   "execution_count": 10,
   "id": "ec644148-9439-4329-be60-9321f5550902",
   "metadata": {},
   "outputs": [
    {
     "data": {
      "text/plain": [
       "0.8151260504201681"
      ]
     },
     "execution_count": 10,
     "metadata": {},
     "output_type": "execute_result"
    }
   ],
   "source": [
    "sgdc.score( xtrain_scaled, ytrain )     # 훈련 데이터 정확도(스케일링)"
   ]
  },
  {
   "cell_type": "code",
   "execution_count": 11,
   "id": "2b775c05-f839-420d-ad1f-b6e22a85e41d",
   "metadata": {},
   "outputs": [
    {
     "data": {
      "text/plain": [
       "0.8"
      ]
     },
     "execution_count": 11,
     "metadata": {},
     "output_type": "execute_result"
    }
   ],
   "source": [
    "sgdc.score( xtest_scaled, ytest )       # 테스트 데이터 정확도(스케일링)"
   ]
  },
  {
   "cell_type": "markdown",
   "id": "1002b649-9942-451b-a904-83f57dfbbeac",
   "metadata": {},
   "source": [
    "### 하이퍼 파라미터 - 에포크"
   ]
  },
  {
   "cell_type": "code",
   "execution_count": 12,
   "id": "ee3b2892-ee3e-4153-baa6-0808636bcc6a",
   "metadata": {},
   "outputs": [],
   "source": [
    "sgdc = SGDClassifier(loss='log', random_state=42)\n",
    "train_score = []\n",
    "test_score = []\n",
    "classes = np.unique( ytrain )\n",
    "\n",
    "for _ in range(0, 300):\n",
    "    sgdc.partial_fit( xtrain_scaled, ytrain, classes=classes )\n",
    "    train_score.append( sgdc.score( xtrain_scaled, ytrain ) )\n",
    "    test_score.append( sgdc.score( xtest_scaled, ytest ) )"
   ]
  },
  {
   "cell_type": "markdown",
   "id": "f6156c91-f393-445f-a8de-4162bc7c94ef",
   "metadata": {},
   "source": [
    "### 그래프\n",
    "파랑 - 훈련, 주황 - 테스트"
   ]
  },
  {
   "cell_type": "code",
   "execution_count": 13,
   "id": "f62d0b31-78e5-4c0a-bebe-8e44bac5eb2c",
   "metadata": {},
   "outputs": [
    {
     "data": {
      "image/png": "[encoded data removed]",
      "text/plain": [
       "<Figure size 432x288 with 1 Axes>"
      ]
     },
     "metadata": {
      "needs_background": "light"
     },
     "output_type": "display_data"
    }
   ],
   "source": [
    "plt.plot(train_score)\n",
    "plt.plot(test_score)\n",
    "plt.xlabel('epoch')\n",
    "plt.ylabel('accuracy')\n",
    "plt.show()"
   ]
  },
  {
   "cell_type": "markdown",
   "id": "3caf2923-cb75-4409-82e3-cf98132d245b",
   "metadata": {},
   "source": [
    "### 최적화: max_iter = 100"
   ]
  },
  {
   "cell_type": "code",
   "execution_count": 14,
   "id": "2d28ac19-0e20-478e-97f1-6a35451c5b9c",
   "metadata": {},
   "outputs": [
    {
     "name": "stdout",
     "output_type": "stream",
     "text": [
      "0.957983193277311\n",
      "0.925\n"
     ]
    }
   ],
   "source": [
    "sgdc = SGDClassifier(\n",
    "    loss = 'log'             # 손실 함수\n",
    "    , max_iter = 100         # 에포크 횟수\n",
    "    , tol=None\n",
    "    , random_state = 42    # 랜덤 시드\n",
    "    )\n",
    "\n",
    "# (분류)변수.fit( xtrain, ytrain )              # 모델 학습\n",
    "sgdc.fit( xtrain_scaled, ytrain )         # 모델 학습(스케일링)\n",
    "\n",
    "# (분류)변수.score( xtrain, ytrain )            # 훈련 데이터 정확도\n",
    "# (분류)변수.score( xtest, ytest )              # 테스트 데이터 정확도\n",
    "\n",
    "print( sgdc.score( xtrain_scaled, ytrain ) )     # 훈련 데이터 정확도(스케일링)\n",
    "print( sgdc.score( xtest_scaled, ytest ) )       # 테스트 데이터 정확도(스케일링)"
   ]
  },
  {
   "cell_type": "code",
   "execution_count": null,
   "id": "d5fd8c8e-231e-40cb-926c-8f44a630815e",
   "metadata": {},
   "outputs": [],
   "source": []
  }
 ],
 "metadata": {
  "kernelspec": {
   "display_name": "Python 3 (ipykernel)",
   "language": "python",
   "name": "python3"
  },
  "language_info": {
   "codemirror_mode": {
    "name": "ipython",
    "version": 3
   },
   "file_extension": ".py",
   "mimetype": "text/x-python",
   "name": "python",
   "nbconvert_exporter": "python",
   "pygments_lexer": "ipython3",
   "version": "3.8.13"
  }
 },
 "nbformat": 4,
 "nbformat_minor": 5
}
