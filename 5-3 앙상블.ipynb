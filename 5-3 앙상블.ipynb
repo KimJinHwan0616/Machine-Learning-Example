{
 "cells": [
  {
   "cell_type": "code",
   "execution_count": 1,
   "id": "45f3c15e-93f1-477b-ad43-6769e8819052",
   "metadata": {},
   "outputs": [],
   "source": [
    "import pandas as pd\n",
    "import numpy as np\n",
    "import matplotlib.pyplot as plt\n",
    "\n",
    "#   패키지 설치\n",
    "#   pip install sklearn\n",
    "\n",
    "from sklearn.preprocessing import StandardScaler, MinMaxScaler\n",
    "from sklearn.preprocessing import LabelEncoder, OneHotEncoder\n",
    "from sklearn.model_selection import train_test_split\n",
    "\n",
    "# 모델 학습\n",
    "from sklearn.neighbors import KNeighborsRegressor\n",
    "from sklearn.linear_model import LinearRegression, Ridge, Lasso\n",
    "from sklearn.preprocessing import PolynomialFeatures\n",
    "from sklearn.linear_model import SGDRegressor\n",
    "\n",
    "from sklearn.linear_model import LogisticRegression\n",
    "from sklearn.linear_model import SGDClassifier\n",
    "from sklearn.naive_bayes import MultinomialNB\n",
    "from sklearn.svm import SVC\n",
    "from sklearn.tree import DecisionTreeClassifier\n",
    "from sklearn.neighbors import KNeighborsClassifier\n",
    "\n",
    "from sklearn.ensemble import VotingClassifier, BaggingClassifier\n",
    "from sklearn.ensemble import RandomForestClassifier, ExtraTreesClassifier\n",
    "\n",
    "from sklearn.ensemble import AdaBoostClassifier, GradientBoostingClassifier, HistGradientBoostingClassifier\n",
    "from xgboost import XGBClassifier\n",
    "from lightgbm import LGBMClassifier\n",
    "\n",
    "from sklearn.cluster import KMeans\n",
    "from sklearn.decomposition import PCA\n",
    "\n",
    "# 성능 조절\n",
    "from sklearn.model_selection import cross_validate, StratifiedKFold, KFold\n",
    "from sklearn.model_selection import GridSearchCV, RandomizedSearchCV\n",
    "from scipy.stats import uniform, randint\n",
    "\n",
    "# 성능 평가\n",
    "from sklearn.metrics import confusion_matrix\n",
    "from sklearn.metrics import accuracy_score, precision_score, recall_score\n",
    "from sklearn.metrics import roc_auc_score\n",
    "\n",
    "from sklearn.metrics import mean_squared_error, r2_score\n",
    "\n",
    "from sklearn.metrics import silhouette_score\n",
    "\n",
    "# 경고 메세지 숨김\n",
    "import warnings     \n",
    "warnings.filterwarnings('ignore')"
   ]
  },
  {
   "cell_type": "markdown",
   "id": "3e98106c-13c4-408a-bf1d-ffd89ecdea13",
   "metadata": {},
   "source": [
    "# 테이블 열기"
   ]
  },
  {
   "cell_type": "code",
   "execution_count": 2,
   "id": "6dd81f8a-a179-4012-8366-bcf5aaace96d",
   "metadata": {},
   "outputs": [
    {
     "data": {
      "text/html": [
       "<div>\n",
       "<style scoped>\n",
       "    .dataframe tbody tr th:only-of-type {\n",
       "        vertical-align: middle;\n",
       "    }\n",
       "\n",
       "    .dataframe tbody tr th {\n",
       "        vertical-align: top;\n",
       "    }\n",
       "\n",
       "    .dataframe thead th {\n",
       "        text-align: right;\n",
       "    }\n",
       "</style>\n",
       "<table border=\"1\" class=\"dataframe\">\n",
       "  <thead>\n",
       "    <tr style=\"text-align: right;\">\n",
       "      <th></th>\n",
       "      <th>alcohol</th>\n",
       "      <th>sugar</th>\n",
       "      <th>pH</th>\n",
       "      <th>class</th>\n",
       "    </tr>\n",
       "  </thead>\n",
       "  <tbody>\n",
       "    <tr>\n",
       "      <th>0</th>\n",
       "      <td>9.4</td>\n",
       "      <td>1.9</td>\n",
       "      <td>3.51</td>\n",
       "      <td>0.0</td>\n",
       "    </tr>\n",
       "    <tr>\n",
       "      <th>1</th>\n",
       "      <td>9.8</td>\n",
       "      <td>2.6</td>\n",
       "      <td>3.20</td>\n",
       "      <td>0.0</td>\n",
       "    </tr>\n",
       "    <tr>\n",
       "      <th>2</th>\n",
       "      <td>9.8</td>\n",
       "      <td>2.3</td>\n",
       "      <td>3.26</td>\n",
       "      <td>0.0</td>\n",
       "    </tr>\n",
       "    <tr>\n",
       "      <th>3</th>\n",
       "      <td>9.8</td>\n",
       "      <td>1.9</td>\n",
       "      <td>3.16</td>\n",
       "      <td>0.0</td>\n",
       "    </tr>\n",
       "    <tr>\n",
       "      <th>4</th>\n",
       "      <td>9.4</td>\n",
       "      <td>1.9</td>\n",
       "      <td>3.51</td>\n",
       "      <td>0.0</td>\n",
       "    </tr>\n",
       "  </tbody>\n",
       "</table>\n",
       "</div>"
      ],
      "text/plain": [
       "   alcohol  sugar    pH  class\n",
       "0      9.4    1.9  3.51    0.0\n",
       "1      9.8    2.6  3.20    0.0\n",
       "2      9.8    2.3  3.26    0.0\n",
       "3      9.8    1.9  3.16    0.0\n",
       "4      9.4    1.9  3.51    0.0"
      ]
     },
     "execution_count": 2,
     "metadata": {},
     "output_type": "execute_result"
    }
   ],
   "source": [
    "wine = pd.read_csv('https://bit.ly/wine_csv_data')\n",
    "wine.head()"
   ]
  },
  {
   "cell_type": "code",
   "execution_count": 3,
   "id": "7f81ab59-2676-4c1a-a5b0-f30e473f9cb9",
   "metadata": {},
   "outputs": [],
   "source": [
    "# 특성\n",
    "wine_data = wine.iloc[:, 0:3]\n",
    "\n",
    "# 타겟\n",
    "wine_target = wine.iloc[:, 3]"
   ]
  },
  {
   "cell_type": "code",
   "execution_count": 4,
   "id": "dc10ec5c-61ab-4262-8eae-f6e0a47b3a66",
   "metadata": {},
   "outputs": [
    {
     "data": {
      "text/html": [
       "<div>\n",
       "<style scoped>\n",
       "    .dataframe tbody tr th:only-of-type {\n",
       "        vertical-align: middle;\n",
       "    }\n",
       "\n",
       "    .dataframe tbody tr th {\n",
       "        vertical-align: top;\n",
       "    }\n",
       "\n",
       "    .dataframe thead th {\n",
       "        text-align: right;\n",
       "    }\n",
       "</style>\n",
       "<table border=\"1\" class=\"dataframe\">\n",
       "  <thead>\n",
       "    <tr style=\"text-align: right;\">\n",
       "      <th></th>\n",
       "      <th>alcohol</th>\n",
       "      <th>sugar</th>\n",
       "      <th>pH</th>\n",
       "    </tr>\n",
       "  </thead>\n",
       "  <tbody>\n",
       "    <tr>\n",
       "      <th>0</th>\n",
       "      <td>9.4</td>\n",
       "      <td>1.9</td>\n",
       "      <td>3.51</td>\n",
       "    </tr>\n",
       "    <tr>\n",
       "      <th>1</th>\n",
       "      <td>9.8</td>\n",
       "      <td>2.6</td>\n",
       "      <td>3.20</td>\n",
       "    </tr>\n",
       "    <tr>\n",
       "      <th>2</th>\n",
       "      <td>9.8</td>\n",
       "      <td>2.3</td>\n",
       "      <td>3.26</td>\n",
       "    </tr>\n",
       "    <tr>\n",
       "      <th>3</th>\n",
       "      <td>9.8</td>\n",
       "      <td>1.9</td>\n",
       "      <td>3.16</td>\n",
       "    </tr>\n",
       "    <tr>\n",
       "      <th>4</th>\n",
       "      <td>9.4</td>\n",
       "      <td>1.9</td>\n",
       "      <td>3.51</td>\n",
       "    </tr>\n",
       "  </tbody>\n",
       "</table>\n",
       "</div>"
      ],
      "text/plain": [
       "   alcohol  sugar    pH\n",
       "0      9.4    1.9  3.51\n",
       "1      9.8    2.6  3.20\n",
       "2      9.8    2.3  3.26\n",
       "3      9.8    1.9  3.16\n",
       "4      9.4    1.9  3.51"
      ]
     },
     "execution_count": 4,
     "metadata": {},
     "output_type": "execute_result"
    }
   ],
   "source": [
    "wine_data.head()"
   ]
  },
  {
   "cell_type": "code",
   "execution_count": 5,
   "id": "de330e6e-31df-4790-b5ee-06048caaf922",
   "metadata": {},
   "outputs": [
    {
     "data": {
      "text/plain": [
       "1.0    4898\n",
       "0.0    1599\n",
       "Name: class, dtype: int64"
      ]
     },
     "execution_count": 5,
     "metadata": {},
     "output_type": "execute_result"
    }
   ],
   "source": [
    "wine_target.value_counts()\n",
    "# 1: 화이트, 0: 레드"
   ]
  },
  {
   "cell_type": "markdown",
   "id": "91fa1368-76eb-4149-80dd-b130b20d9343",
   "metadata": {},
   "source": [
    "# 데이터 분할"
   ]
  },
  {
   "cell_type": "code",
   "execution_count": 6,
   "id": "66555b5f-b1c2-4e19-a44c-95dd27d92477",
   "metadata": {
    "tags": []
   },
   "outputs": [
    {
     "name": "stdout",
     "output_type": "stream",
     "text": [
      "(5197, 3) (1300, 3)\n"
     ]
    }
   ],
   "source": [
    "data = wine_data       # 특성\n",
    "target = wine_target     # 타겟\n",
    "\n",
    "xtrain, xtest, ytrain, ytest = train_test_split(\n",
    " \n",
    "    data, target             # x: 특성, y: 타겟\n",
    "    , test_size = 0.2       # 테스트 데이터 비율(0~1)\n",
    "#   , stratify = target      # 계층화(훈련＆테스트 데이터 비율: x=y)\n",
    "    , random_state = 42   # 랜덤 시드\n",
    "    )\n",
    "\n",
    "print(xtrain.shape, xtest.shape)"
   ]
  },
  {
   "cell_type": "markdown",
   "id": "1c88f766-f302-44a0-9d3a-2b1360c5f73f",
   "metadata": {},
   "source": [
    "# 랜덤 포레스트1"
   ]
  },
  {
   "cell_type": "code",
   "execution_count": 7,
   "id": "b74aeb5a-3bc6-4e46-b9ef-0c762840fa0e",
   "metadata": {},
   "outputs": [],
   "source": [
    "rfc = RandomForestClassifier(n_jobs=-1, random_state=42)"
   ]
  },
  {
   "cell_type": "markdown",
   "id": "fa0e300e-87e1-430f-84ec-930c265b7246",
   "metadata": {},
   "source": [
    "# 교차 검증(훈련 + 검증)"
   ]
  },
  {
   "cell_type": "code",
   "execution_count": 8,
   "id": "b28190b0-e9ce-4a41-9771-5f529dc6cab0",
   "metadata": {},
   "outputs": [
    {
     "data": {
      "text/plain": [
       "{'fit_time': array([0.53541732, 0.348037  , 0.37665176, 0.35055542, 0.34880209]),\n",
       " 'score_time': array([0.03479409, 0.03374362, 0.03489065, 0.03352308, 0.03354859]),\n",
       " 'test_score': array([0.88461538, 0.88942308, 0.90279115, 0.88931665, 0.88642926]),\n",
       " 'train_score': array([0.9971133 , 0.99663219, 0.9978355 , 0.9973545 , 0.9978355 ])}"
      ]
     },
     "execution_count": 8,
     "metadata": {},
     "output_type": "execute_result"
    }
   ],
   "source": [
    "from sklearn.model_selection import cross_validate\n",
    "\n",
    "scores = cross_validate(\n",
    "    rfc\n",
    "    , xtrain, ytrain    # 특성, 타겟\n",
    "    , scoring='accuracy'    # 평가 지표(분류/회귀)\n",
    "    , return_train_score=True    # 훈련 데이터 정확도 추가\n",
    "    , cv=5   # 분할 종류(회귀: KFold, 분류: StratifiedKFold)\n",
    "    , n_jobs=-1    # 사용할 CPU 코어 개수(-1: 모두, 1: 한 개)\n",
    "    )\n",
    "\n",
    "scores # 모델 학습 시간, 모델 검증 시간, 검증 점수"
   ]
  },
  {
   "cell_type": "code",
   "execution_count": 9,
   "id": "e5eaa3db-195e-4d5e-8658-a06308330628",
   "metadata": {},
   "outputs": [
    {
     "data": {
      "text/plain": [
       "0.9973541965122431"
      ]
     },
     "execution_count": 9,
     "metadata": {},
     "output_type": "execute_result"
    }
   ],
   "source": [
    "np.mean(scores['train_score'])"
   ]
  },
  {
   "cell_type": "code",
   "execution_count": 10,
   "id": "f5162f1d-3cd5-4826-957b-edbc3dd5b6a0",
   "metadata": {},
   "outputs": [
    {
     "data": {
      "text/plain": [
       "0.8905151032797809"
      ]
     },
     "execution_count": 10,
     "metadata": {},
     "output_type": "execute_result"
    }
   ],
   "source": [
    "np.mean(scores['test_score'])"
   ]
  },
  {
   "cell_type": "markdown",
   "id": "42d6f2c9-2af6-4c6f-ad56-097884c32ffc",
   "metadata": {},
   "source": [
    "# 모델 학습"
   ]
  },
  {
   "cell_type": "code",
   "execution_count": 11,
   "id": "fddaba39-f8ee-4280-aba3-f8c956ba8cc3",
   "metadata": {},
   "outputs": [
    {
     "data": {
      "text/plain": [
       "array([0.23167441, 0.50039841, 0.26792718])"
      ]
     },
     "execution_count": 11,
     "metadata": {},
     "output_type": "execute_result"
    }
   ],
   "source": [
    "rfc.fit(xtrain, ytrain)\n",
    "\n",
    "rfc.feature_importances_"
   ]
  },
  {
   "cell_type": "markdown",
   "id": "39335d85-99ac-4403-9c55-976bb5a72462",
   "metadata": {},
   "source": [
    "# 랜덤 포레스트2"
   ]
  },
  {
   "cell_type": "code",
   "execution_count": 12,
   "id": "47d61d45-5fe0-44a6-b691-3d04734c04a2",
   "metadata": {
    "tags": []
   },
   "outputs": [
    {
     "data": {
      "text/plain": [
       "0.8934000384837406"
      ]
     },
     "execution_count": 12,
     "metadata": {},
     "output_type": "execute_result"
    }
   ],
   "source": [
    "rfc = RandomForestClassifier(oob_score=True, n_jobs=-1, random_state=42)\n",
    "rfc.fit(xtrain, ytrain)\n",
    "\n",
    "rfc.oob_score_    # 검증 데이터 정확도"
   ]
  },
  {
   "cell_type": "code",
   "execution_count": null,
   "id": "1c6c6cc5-97ad-4621-8229-6976ff41c7eb",
   "metadata": {},
   "outputs": [
    {
     "data": {
      "text/plain": [
       "0.996921300750433"
      ]
     },
     "execution_count": 13,
     "metadata": {},
     "output_type": "execute_result"
    }
   ],
   "source": [
    "rfc.score( xtrain, ytrain )            # 훈련 데이터 정확도"
   ]
  },
  {
   "cell_type": "markdown",
   "id": "28a4e2b3-5369-4f5e-8d87-5d03c0f0e47b",
   "metadata": {},
   "source": [
    "### 시각화 - 특성 중요도"
   ]
  },
  {
   "cell_type": "code",
   "execution_count": 25,
   "id": "79686a35-94c5-4a11-89f0-a7abd0e288e2",
   "metadata": {},
   "outputs": [
    {
     "data": {
      "image/png": "[encoded data removed]",
      "text/plain": [
       "<Figure size 432x288 with 1 Axes>"
      ]
     },
     "metadata": {
      "needs_background": "light"
     },
     "output_type": "display_data"
    }
   ],
   "source": [
    "# 코드 생각\n",
    "importance = rfc.feature_importances_     # 특성 중요도\n",
    "\n",
    "# rfc.feature_importances_ # 특성 중요도 이름\n",
    "descending = np.argsort(importance)[::-1]   # 내림차순\n",
    "names = []\n",
    "\n",
    "for i in descending:\n",
    "    names.append(i)\n",
    "    \n",
    "# 시각화 - 막대그래프\n",
    "plt.bar(range(3), importance[descending])\n",
    "plt.xticks(range(3), names)\n",
    "plt.show()"
   ]
  },
  {
   "cell_type": "markdown",
   "id": "bd48d5d5-addd-4281-a751-04463507f5d0",
   "metadata": {},
   "source": [
    "# 엑스트라 트리"
   ]
  },
  {
   "cell_type": "code",
   "execution_count": null,
   "id": "7d59c833-adef-4f83-adcd-38e93009005d",
   "metadata": {},
   "outputs": [],
   "source": [
    "from sklearn.ensemble import ExtraTreesClassifier\n",
    "\n",
    "etc = ExtraTreesClassifier(n_jobs=-1, random_state=42, n_estimators=100)"
   ]
  },
  {
   "cell_type": "markdown",
   "id": "7d98b23a-c9b7-4da4-9236-bae218fa2877",
   "metadata": {},
   "source": [
    "### 교차 검증"
   ]
  },
  {
   "cell_type": "code",
   "execution_count": null,
   "id": "98b3d530-ae5a-4dd5-96e1-c5833d53679f",
   "metadata": {},
   "outputs": [],
   "source": [
    "scores = cross_validate(etc, xtrain, ytrain, return_train_score=True, n_jobs=-1)\n",
    "\n",
    "scores"
   ]
  },
  {
   "cell_type": "code",
   "execution_count": null,
   "id": "b5fba57e-1ddb-4fb1-ae30-fa21b46d5f74",
   "metadata": {},
   "outputs": [],
   "source": [
    "np.mean(scores['train_score'])"
   ]
  },
  {
   "cell_type": "code",
   "execution_count": null,
   "id": "c9360c46-083f-4e86-ba53-40df6031a4cb",
   "metadata": {},
   "outputs": [],
   "source": [
    "np.mean(scores['test_score'])"
   ]
  },
  {
   "cell_type": "markdown",
   "id": "0ec5b8dd-59fb-48a5-9b6f-e80d280d98c0",
   "metadata": {},
   "source": [
    "# 모델 학습"
   ]
  },
  {
   "cell_type": "code",
   "execution_count": null,
   "id": "638e0b8c-3e2f-4500-990d-7cd822fb0663",
   "metadata": {},
   "outputs": [],
   "source": [
    "etc.fit(xtrain, ytrain)\n",
    "\n",
    "etc.feature_importances_    # 특성 중요도"
   ]
  },
  {
   "cell_type": "markdown",
   "id": "bfd65764-0068-4215-ae34-bd59ada33449",
   "metadata": {},
   "source": [
    "# 그레이디언트 부스팅"
   ]
  },
  {
   "cell_type": "code",
   "execution_count": null,
   "id": "810ec4ac-af94-40b7-8107-2654de1cb392",
   "metadata": {},
   "outputs": [],
   "source": [
    "from sklearn.ensemble import GradientBoostingClassifier\n",
    "gbc = GradientBoostingClassifier(\n",
    "    n_estimators = 500    # 결정 트리 갯수(100)\n",
    "    , learning_rate = 0.2    # 학습률(0.1)\n",
    "    , random_state = 42\n",
    "    )"
   ]
  },
  {
   "cell_type": "markdown",
   "id": "0d13b1b6-f3fe-4203-ba3c-62c43252b1a7",
   "metadata": {},
   "source": [
    "### 교차 검증"
   ]
  },
  {
   "cell_type": "code",
   "execution_count": null,
   "id": "f7e540be-7269-4f06-81b7-89c3a5f1c83a",
   "metadata": {},
   "outputs": [],
   "source": [
    "scores = cross_validate(\n",
    "    gbc\n",
    "    , xtrain, ytrain               # 특성, 타겟\n",
    "#   , xtrain_scaled, ytrain        # 특성(스케일링), 타겟\n",
    "    , scoring = 'accuracy'      # 평가 지표(분류/회귀)\n",
    "    , return_train_score = True    # 훈련 데이터 정확도 추가\n",
    "    , cv = 5   # 분할 종류??(회귀: KFold, 분류: StratifiedKFold)\n",
    "    , n_jobs = -1    # 사용할 CPU 개수(-1: 모두, 1: 한 개)\n",
    "    )\n",
    "\n",
    "scores    # 모델 학습 시간, 모델 검증 시간, (훈련 데이터 정확도), 검증 데이터 정확도"
   ]
  },
  {
   "cell_type": "code",
   "execution_count": null,
   "id": "86b7a4fe-3f12-4db2-ac3e-248cf2126965",
   "metadata": {},
   "outputs": [],
   "source": [
    "np.mean(scores['train_score'])    # 훈련 데이터 정확도"
   ]
  },
  {
   "cell_type": "code",
   "execution_count": null,
   "id": "47867e20-eb95-4703-9249-b383714fa581",
   "metadata": {},
   "outputs": [],
   "source": [
    "np.mean(scores['test_score'])     # 검증 데이터 정확도"
   ]
  },
  {
   "cell_type": "markdown",
   "id": "173af95f-c014-4ad5-b8bf-c1272a997967",
   "metadata": {},
   "source": [
    "# 모델 학습"
   ]
  },
  {
   "cell_type": "code",
   "execution_count": null,
   "id": "f58feabd-5b81-46eb-a7b5-b6b9dc624c41",
   "metadata": {},
   "outputs": [],
   "source": [
    "gbc.fit(xtrain, ytrain)\n",
    "\n",
    "gbc.feature_importances_    # 특성 중요도"
   ]
  },
  {
   "cell_type": "code",
   "execution_count": null,
   "id": "3086c11b-a8b6-4328-b2eb-71a03985afcd",
   "metadata": {},
   "outputs": [],
   "source": [
    "gbc.score( xtrain, ytrain )            # 훈련 데이터 정확도"
   ]
  },
  {
   "cell_type": "code",
   "execution_count": null,
   "id": "de67ab5d-2a72-4c71-8ad2-87b711d90cd1",
   "metadata": {},
   "outputs": [],
   "source": [
    "gbc.score( xtest, ytest )              # 테스트 데이터 정확도"
   ]
  },
  {
   "cell_type": "markdown",
   "id": "9e006a1b-c066-482f-b971-b3d22f897edc",
   "metadata": {},
   "source": [
    "# 히스토그램 기반 그레이디언트 부스팅"
   ]
  },
  {
   "cell_type": "code",
   "execution_count": null,
   "id": "17729817-6980-4d2d-ae1c-0143f530b002",
   "metadata": {},
   "outputs": [],
   "source": [
    "from sklearn.ensemble import HistGradientBoostingClassifier\n",
    "\n",
    "hgbc = HistGradientBoostingClassifier(\n",
    "    max_iter=100    # 하이퍼 파라미터(부스팅 반복 횟수)\n",
    "    , learning_rate = 0.1    # 학습률\n",
    "    , max_bins = 255    # 입력 데이터 나눌 구간\n",
    "    )"
   ]
  },
  {
   "cell_type": "markdown",
   "id": "ff3ba308-ee20-4f35-a928-373e1b02568f",
   "metadata": {},
   "source": [
    "### 교차 검증"
   ]
  },
  {
   "cell_type": "code",
   "execution_count": null,
   "id": "b25b858d-fbbd-4909-8a6d-c1d211c9e104",
   "metadata": {},
   "outputs": [],
   "source": [
    "scores = cross_validate(\n",
    "    hgbc\n",
    "    , xtrain, ytrain               # 특성, 타겟\n",
    "#   , xtrain_scaled, ytrain        # 특성(스케일링), 타겟\n",
    "    , scoring = 'accuracy'      # 평가 지표(분류/회귀)\n",
    "    , return_train_score = True    # 훈련 데이터 정확도 추가\n",
    "    , cv = 5   # 분할 종류??(회귀: KFold, 분류: StratifiedKFold)\n",
    "    , n_jobs = -1    # 사용할 CPU 개수(-1: 모두, 1: 한 개)\n",
    "    )\n",
    "\n",
    "scores    # 모델 학습 시간, 모델 검증 시간, (훈련 데이터 정확도), 검증 데이터 정확도"
   ]
  },
  {
   "cell_type": "code",
   "execution_count": null,
   "id": "bd75380a-e8e8-4130-9c62-6a1beec87fb9",
   "metadata": {},
   "outputs": [],
   "source": [
    "np.mean(scores['train_score'])    # 훈련 데이터 정확도"
   ]
  },
  {
   "cell_type": "code",
   "execution_count": null,
   "id": "0ec92f68-4d33-43d3-a510-2080aaabc056",
   "metadata": {},
   "outputs": [],
   "source": [
    "np.mean(scores['test_score'])     # 검증 데이터 정확도"
   ]
  },
  {
   "cell_type": "markdown",
   "id": "6d099a83-d4af-47a4-81d2-ced177c6e2a6",
   "metadata": {},
   "source": [
    "# 모델 학습"
   ]
  },
  {
   "cell_type": "code",
   "execution_count": null,
   "id": "5f37aedd-5487-4471-812d-843da2b68865",
   "metadata": {},
   "outputs": [],
   "source": [
    "hgbc.fit(xtrain, ytrain)\n",
    "\n",
    "from sklearn.inspection import permutation_importance\n",
    "result = permutation_importance(\n",
    "    hgbc\n",
    "    , xtrain, ytrain\n",
    "    , n_repeats=10    # 랜덤하게 섞을 횟수(5)\n",
    "    , n_jobs=-1\n",
    "    , random_state=42\n",
    "    )\n",
    "\n",
    "result.importances_mean    # 특성 중요도\n",
    "# result.importances_mean    # 평균\n",
    "# result.importances_std    # 표준 편차"
   ]
  },
  {
   "cell_type": "code",
   "execution_count": null,
   "id": "6067474a-a4c3-4209-97af-5b94b151e5a9",
   "metadata": {},
   "outputs": [],
   "source": [
    "hgbc.score(xtrain, ytrain)    # 훈련 데이터 정확도"
   ]
  },
  {
   "cell_type": "code",
   "execution_count": null,
   "id": "ac785b11-ddd1-453c-85e9-909674f3165a",
   "metadata": {},
   "outputs": [],
   "source": [
    "hgbc.score(xtest, ytest)    # 테스트 데이터 정확도"
   ]
  }
 ],
 "metadata": {
  "kernelspec": {
   "display_name": "Python 3 (ipykernel)",
   "language": "python",
   "name": "python3"
  },
  "language_info": {
   "codemirror_mode": {
    "name": "ipython",
    "version": 3
   },
   "file_extension": ".py",
   "mimetype": "text/x-python",
   "name": "python",
   "nbconvert_exporter": "python",
   "pygments_lexer": "ipython3",
   "version": "3.8.13"
  }
 },
 "nbformat": 4,
 "nbformat_minor": 5
}
