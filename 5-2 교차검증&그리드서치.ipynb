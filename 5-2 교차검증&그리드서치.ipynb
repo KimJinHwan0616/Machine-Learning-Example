{
 "cells": [
  {
   "cell_type": "code",
   "execution_count": 1,
   "id": "361bc038-ff05-46b1-8f9e-2f1d7fc12fa8",
   "metadata": {},
   "outputs": [],
   "source": [
    "import pandas as pd\n",
    "import numpy as np\n",
    "import matplotlib.pyplot as plt\n",
    "\n",
    "#   패키지 설치\n",
    "#   pip install sklearn\n",
    "\n",
    "from sklearn.preprocessing import StandardScaler, MinMaxScaler\n",
    "from sklearn.preprocessing import LabelEncoder, OneHotEncoder\n",
    "from sklearn.model_selection import train_test_split, cross_val_score\n",
    "\n",
    "# 모델 학습\n",
    "from sklearn.neighbors import KNeighborsRegressor\n",
    "from sklearn.linear_model import LinearRegression, Ridge, Lasso\n",
    "from sklearn.preprocessing import PolynomialFeatures\n",
    "from sklearn.linear_model import SGDRegressor\n",
    "\n",
    "from sklearn.linear_model import LogisticRegression\n",
    "from sklearn.linear_model import SGDClassifier\n",
    "from sklearn.naive_bayes import MultinomialNB\n",
    "from sklearn.svm import SVC\n",
    "from sklearn.tree import DecisionTreeClassifier\n",
    "from sklearn.neighbors import KNeighborsClassifier\n",
    "\n",
    "from sklearn.ensemble import RandomForestClassifier, VotingClassifier, BaggingClassifier\n",
    "from sklearn.ensemble import AdaBoostClassifier, GradientBoostingClassifier\n",
    "from xgboost import XGBClassifier\n",
    "from lightgbm import LGBMClassifier\n",
    "\n",
    "from sklearn.cluster import KMeans\n",
    "\n",
    "from sklearn.decomposition import PCA\n",
    "\n",
    "# 성능 평가\n",
    "from sklearn.metrics import confusion_matrix\n",
    "from sklearn.metrics import accuracy_score, precision_score, recall_score\n",
    "from sklearn.metrics import roc_auc_score\n",
    "\n",
    "from sklearn.metrics import mean_squared_error, r2_score\n",
    "\n",
    "from sklearn.metrics import silhouette_score\n",
    "\n",
    "# 경고 메세지 숨김\n",
    "import warnings     \n",
    "warnings.filterwarnings('ignore')"
   ]
  },
  {
   "cell_type": "markdown",
   "id": "c7eba2f7-6b16-4a8a-9fe0-8213a5844801",
   "metadata": {},
   "source": [
    "# 테이블 열기"
   ]
  },
  {
   "cell_type": "code",
   "execution_count": 2,
   "id": "847d33b3-3381-49bc-96a8-8620fa82d81b",
   "metadata": {},
   "outputs": [
    {
     "data": {
      "text/html": [
       "<div>\n",
       "<style scoped>\n",
       "    .dataframe tbody tr th:only-of-type {\n",
       "        vertical-align: middle;\n",
       "    }\n",
       "\n",
       "    .dataframe tbody tr th {\n",
       "        vertical-align: top;\n",
       "    }\n",
       "\n",
       "    .dataframe thead th {\n",
       "        text-align: right;\n",
       "    }\n",
       "</style>\n",
       "<table border=\"1\" class=\"dataframe\">\n",
       "  <thead>\n",
       "    <tr style=\"text-align: right;\">\n",
       "      <th></th>\n",
       "      <th>alcohol</th>\n",
       "      <th>sugar</th>\n",
       "      <th>pH</th>\n",
       "      <th>class</th>\n",
       "    </tr>\n",
       "  </thead>\n",
       "  <tbody>\n",
       "    <tr>\n",
       "      <th>0</th>\n",
       "      <td>9.4</td>\n",
       "      <td>1.9</td>\n",
       "      <td>3.51</td>\n",
       "      <td>0.0</td>\n",
       "    </tr>\n",
       "    <tr>\n",
       "      <th>1</th>\n",
       "      <td>9.8</td>\n",
       "      <td>2.6</td>\n",
       "      <td>3.20</td>\n",
       "      <td>0.0</td>\n",
       "    </tr>\n",
       "    <tr>\n",
       "      <th>2</th>\n",
       "      <td>9.8</td>\n",
       "      <td>2.3</td>\n",
       "      <td>3.26</td>\n",
       "      <td>0.0</td>\n",
       "    </tr>\n",
       "    <tr>\n",
       "      <th>3</th>\n",
       "      <td>9.8</td>\n",
       "      <td>1.9</td>\n",
       "      <td>3.16</td>\n",
       "      <td>0.0</td>\n",
       "    </tr>\n",
       "    <tr>\n",
       "      <th>4</th>\n",
       "      <td>9.4</td>\n",
       "      <td>1.9</td>\n",
       "      <td>3.51</td>\n",
       "      <td>0.0</td>\n",
       "    </tr>\n",
       "  </tbody>\n",
       "</table>\n",
       "</div>"
      ],
      "text/plain": [
       "   alcohol  sugar    pH  class\n",
       "0      9.4    1.9  3.51    0.0\n",
       "1      9.8    2.6  3.20    0.0\n",
       "2      9.8    2.3  3.26    0.0\n",
       "3      9.8    1.9  3.16    0.0\n",
       "4      9.4    1.9  3.51    0.0"
      ]
     },
     "execution_count": 2,
     "metadata": {},
     "output_type": "execute_result"
    }
   ],
   "source": [
    "wine = pd.read_csv('https://bit.ly/wine_csv_data')\n",
    "wine.head()"
   ]
  },
  {
   "cell_type": "code",
   "execution_count": 3,
   "id": "6e0a5ebd-981b-46bc-8c8f-f72b0f7d4f83",
   "metadata": {},
   "outputs": [],
   "source": [
    "# 특성\n",
    "wine_data = wine.iloc[:, 0:3]\n",
    "\n",
    "# 타겟\n",
    "wine_target = wine.iloc[:, 3]"
   ]
  },
  {
   "cell_type": "code",
   "execution_count": 4,
   "id": "9b036b8f-18e2-49c5-bd41-26b3b2044b25",
   "metadata": {},
   "outputs": [
    {
     "data": {
      "text/html": [
       "<div>\n",
       "<style scoped>\n",
       "    .dataframe tbody tr th:only-of-type {\n",
       "        vertical-align: middle;\n",
       "    }\n",
       "\n",
       "    .dataframe tbody tr th {\n",
       "        vertical-align: top;\n",
       "    }\n",
       "\n",
       "    .dataframe thead th {\n",
       "        text-align: right;\n",
       "    }\n",
       "</style>\n",
       "<table border=\"1\" class=\"dataframe\">\n",
       "  <thead>\n",
       "    <tr style=\"text-align: right;\">\n",
       "      <th></th>\n",
       "      <th>alcohol</th>\n",
       "      <th>sugar</th>\n",
       "      <th>pH</th>\n",
       "    </tr>\n",
       "  </thead>\n",
       "  <tbody>\n",
       "    <tr>\n",
       "      <th>0</th>\n",
       "      <td>9.4</td>\n",
       "      <td>1.9</td>\n",
       "      <td>3.51</td>\n",
       "    </tr>\n",
       "    <tr>\n",
       "      <th>1</th>\n",
       "      <td>9.8</td>\n",
       "      <td>2.6</td>\n",
       "      <td>3.20</td>\n",
       "    </tr>\n",
       "    <tr>\n",
       "      <th>2</th>\n",
       "      <td>9.8</td>\n",
       "      <td>2.3</td>\n",
       "      <td>3.26</td>\n",
       "    </tr>\n",
       "    <tr>\n",
       "      <th>3</th>\n",
       "      <td>9.8</td>\n",
       "      <td>1.9</td>\n",
       "      <td>3.16</td>\n",
       "    </tr>\n",
       "    <tr>\n",
       "      <th>4</th>\n",
       "      <td>9.4</td>\n",
       "      <td>1.9</td>\n",
       "      <td>3.51</td>\n",
       "    </tr>\n",
       "  </tbody>\n",
       "</table>\n",
       "</div>"
      ],
      "text/plain": [
       "   alcohol  sugar    pH\n",
       "0      9.4    1.9  3.51\n",
       "1      9.8    2.6  3.20\n",
       "2      9.8    2.3  3.26\n",
       "3      9.8    1.9  3.16\n",
       "4      9.4    1.9  3.51"
      ]
     },
     "execution_count": 4,
     "metadata": {},
     "output_type": "execute_result"
    }
   ],
   "source": [
    "wine_data.head()"
   ]
  },
  {
   "cell_type": "code",
   "execution_count": 5,
   "id": "c23bff09-028b-4fe4-b952-17b5da9f4c99",
   "metadata": {},
   "outputs": [
    {
     "data": {
      "text/plain": [
       "1.0    4898\n",
       "0.0    1599\n",
       "Name: class, dtype: int64"
      ]
     },
     "execution_count": 5,
     "metadata": {},
     "output_type": "execute_result"
    }
   ],
   "source": [
    "wine_target.value_counts()\n",
    "# 1: 화이트, 0: 레드"
   ]
  },
  {
   "cell_type": "markdown",
   "id": "36317b5f-a521-4c34-bf37-6c6e8d9a6d63",
   "metadata": {},
   "source": [
    "# 데이터 분할(훈련 + 테스트)"
   ]
  },
  {
   "cell_type": "code",
   "execution_count": 6,
   "id": "889c70d8-43fe-432f-918c-4cd9eb61604f",
   "metadata": {},
   "outputs": [
    {
     "name": "stdout",
     "output_type": "stream",
     "text": [
      "(5197, 3) (1300, 3)\n"
     ]
    }
   ],
   "source": [
    "data = wine_data       # 특성\n",
    "target = wine_target     # 타겟\n",
    "\n",
    "xtrain, xtest, ytrain, ytest = train_test_split(\n",
    " \n",
    "    data, target             # x: 특성, y: 타겟\n",
    "    , test_size = 0.2       # 테스트 데이터 비율(0~1)\n",
    "#   , stratify = target      # 계층화(훈련＆테스트 데이터 비율: x=y)\n",
    "    , random_state = 42   # 랜덤 시드\n",
    "    )\n",
    "\n",
    "print(xtrain.shape, xtest.shape)"
   ]
  },
  {
   "cell_type": "markdown",
   "id": "7c6fc373-419b-4806-bed0-31bd01d3215f",
   "metadata": {},
   "source": [
    "# 교차 검증(훈련 + 검증)"
   ]
  },
  {
   "cell_type": "code",
   "execution_count": 7,
   "id": "39f65a86-02ba-4ee7-bb2a-e31658fc71cb",
   "metadata": {},
   "outputs": [],
   "source": [
    "# 결정 트리\n",
    "dtc = DecisionTreeClassifier(\n",
    "    criterion = 'gini'    # 불순도\n",
    "    , random_state=42\n",
    "    )"
   ]
  },
  {
   "cell_type": "code",
   "execution_count": 8,
   "id": "8eeada82-d17f-4ec7-834d-8642b39d3f49",
   "metadata": {},
   "outputs": [
    {
     "data": {
      "text/plain": [
       "{'fit_time': array([0.02208328, 0.00942945, 0.00948453, 0.00912404, 0.00871086,\n",
       "        0.00888515, 0.00901556, 0.00873518, 0.00882792, 0.00872231]),\n",
       " 'score_time': array([0.0020833 , 0.00163507, 0.00169396, 0.00165462, 0.00168228,\n",
       "        0.00200248, 0.00221872, 0.00196576, 0.00231767, 0.00186658]),\n",
       " 'test_score': array([0.83461538, 0.87884615, 0.85384615, 0.85384615, 0.84615385,\n",
       "        0.87307692, 0.85961538, 0.85549133, 0.85163776, 0.86705202])}"
      ]
     },
     "execution_count": 8,
     "metadata": {},
     "output_type": "execute_result"
    }
   ],
   "source": [
    "from sklearn.model_selection import cross_validate, StratifiedKFold, KFold\n",
    "\n",
    "spliter = StratifiedKFold(\n",
    "    n_splits=10    # 겹 갯수\n",
    "    , shuffle=True\n",
    "    , random_state=42\n",
    "    )\n",
    "\n",
    "scores = cross_validate(\n",
    "    dtc\n",
    "    , xtrain, ytrain    # 특성, 타겟\n",
    "    , scoring='accuracy'    # 평가 지표(분류/회귀)\n",
    "    , cv=spliter   # 분할 종류(회귀: KFold, 분류: StratifiedKFold)\n",
    "    , n_jobs=1    # 사용할 CPU 코어 개수(-1: 모두, 1: 한 개)\n",
    "    )\n",
    "\n",
    "scores # 모델 학습 시간, 모델 검증 시간, 검증 점수"
   ]
  },
  {
   "cell_type": "code",
   "execution_count": 9,
   "id": "676e7e03-9a32-4864-94cb-9aa1cef49961",
   "metadata": {},
   "outputs": [
    {
     "data": {
      "text/plain": [
       "0.8574181117533719"
      ]
     },
     "execution_count": 9,
     "metadata": {},
     "output_type": "execute_result"
    }
   ],
   "source": [
    "np.mean(scores['test_score'])  # 성능 평가(평균)"
   ]
  },
  {
   "cell_type": "markdown",
   "id": "205ddf74-9db6-40d4-8e62-78dcee2a94bd",
   "metadata": {},
   "source": [
    "# 그리드 서치\n",
    "하이퍼 파마리터 + 교차 검증"
   ]
  },
  {
   "cell_type": "code",
   "execution_count": 10,
   "id": "527d9562-da8f-4a9e-9a18-a01e295788ea",
   "metadata": {},
   "outputs": [],
   "source": [
    "from sklearn.model_selection import GridSearchCV\n",
    "\n",
    "params = {\n",
    "    'min_impurity_decrease': np.arange(0.0001, 0.001, 0.0001)  # 불순도 감소 최소량\n",
    "    , 'max_depth': np.arange(5, 20, 1)\n",
    "    , 'min_samples_split': np.arange(2, 100, 10)\n",
    "    }"
   ]
  },
  {
   "cell_type": "code",
   "execution_count": 11,
   "id": "f633f361-19d9-4c95-8428-059c532c81bb",
   "metadata": {
    "tags": []
   },
   "outputs": [],
   "source": [
    "# 결정 트리\n",
    "dtc = DecisionTreeClassifier(\n",
    "    criterion = 'gini'    # 불순도\n",
    "    , random_state=42\n",
    "    )"
   ]
  },
  {
   "cell_type": "code",
   "execution_count": 12,
   "id": "b9817d78-7eae-47af-aecb-8930d1c25ced",
   "metadata": {},
   "outputs": [
    {
     "data": {
      "text/plain": [
       "{'max_depth': 14, 'min_impurity_decrease': 0.0004, 'min_samples_split': 12}"
      ]
     },
     "execution_count": 12,
     "metadata": {},
     "output_type": "execute_result"
    }
   ],
   "source": [
    "gscv = GridSearchCV(\n",
    "    dtc       # 모델\n",
    "    , params        # 하이퍼 파라미터 목록\n",
    "    , cv = 5        # 교차 검증 횟수(K번)\n",
    "    , scoring = 'accuracy'         # 평가 지표(정확도)\n",
    "    , return_train_score = True    # 훈련 데이터 정확도 추가\n",
    "    , n_jobs = -1    # 사용할 CPU 코어 개수(-1: 모두, 1: 한 개)\n",
    "    )\n",
    "\n",
    "gscv.fit(xtrain, ytrain)\n",
    "\n",
    "gscv.best_params_  # 하이퍼 파라미터 최적화 값"
   ]
  },
  {
   "cell_type": "code",
   "execution_count": 25,
   "id": "32d26853-772e-4648-b680-ceb18668f3c6",
   "metadata": {},
   "outputs": [
    {
     "data": {
      "text/plain": [
       "array([0.86968438, 0.86963628, 0.86963628, ..., 0.8779107 , 0.87781448,\n",
       "       0.87637131])"
      ]
     },
     "execution_count": 25,
     "metadata": {},
     "output_type": "execute_result"
    }
   ],
   "source": [
    "gscv.cv_results_['mean_train_score']    # 교차 검증 점수(cv=5)"
   ]
  },
  {
   "cell_type": "code",
   "execution_count": 26,
   "id": "5b901bbf-f1aa-4569-af20-87a53a26e820",
   "metadata": {},
   "outputs": [
    {
     "data": {
      "text/plain": [
       "0.97195503380252"
      ]
     },
     "execution_count": 26,
     "metadata": {},
     "output_type": "execute_result"
    }
   ],
   "source": [
    "np.max(gscv.cv_results_['mean_train_score'])    # 최적화 교차 검증 점수(cv=5)"
   ]
  },
  {
   "cell_type": "code",
   "execution_count": 13,
   "id": "5a37be41-9fca-49fa-9bc9-570a677c4c86",
   "metadata": {},
   "outputs": [
    {
     "data": {
      "text/plain": [
       "array([0.85780355, 0.85799604, 0.85799604, ..., 0.86126601, 0.86165063,\n",
       "       0.86357629])"
      ]
     },
     "execution_count": 13,
     "metadata": {},
     "output_type": "execute_result"
    }
   ],
   "source": [
    "gscv.cv_results_['mean_test_score']    # 교차 검증 점수(cv=5)"
   ]
  },
  {
   "cell_type": "code",
   "execution_count": 14,
   "id": "4120d6e7-9331-4656-87b6-db6afe0502a0",
   "metadata": {},
   "outputs": [
    {
     "data": {
      "text/plain": [
       "0.8683865773302731"
      ]
     },
     "execution_count": 14,
     "metadata": {},
     "output_type": "execute_result"
    }
   ],
   "source": [
    "np.max(gscv.cv_results_['mean_test_score'])    # 최적화 교차 검증 점수(cv=5)"
   ]
  },
  {
   "cell_type": "code",
   "execution_count": 15,
   "id": "0046c40d-75d2-4e72-9a22-421d7ebb105f",
   "metadata": {},
   "outputs": [],
   "source": [
    "dtc = gscv.best_estimator_    # 하이퍼 파라미터 최적화 값 모델 저장"
   ]
  },
  {
   "cell_type": "markdown",
   "id": "33d1d3fb-bc70-404d-9b29-609858f199f3",
   "metadata": {},
   "source": [
    "### 결정 트리"
   ]
  },
  {
   "cell_type": "code",
   "execution_count": 16,
   "id": "b9faeb93-240e-48f7-8c4d-e388b2dd5295",
   "metadata": {},
   "outputs": [
    {
     "data": {
      "text/plain": [
       "0.892053107562055"
      ]
     },
     "execution_count": 16,
     "metadata": {},
     "output_type": "execute_result"
    }
   ],
   "source": [
    "dtc.score( xtrain, ytrain )            # 훈련 데이터 정확도"
   ]
  },
  {
   "cell_type": "code",
   "execution_count": 17,
   "id": "406da4f1-badd-433c-904a-1c2bedd58ea9",
   "metadata": {},
   "outputs": [
    {
     "data": {
      "text/plain": [
       "0.8615384615384616"
      ]
     },
     "execution_count": 17,
     "metadata": {},
     "output_type": "execute_result"
    }
   ],
   "source": [
    "dtc.score( xtest, ytest )              # 테스트 데이터 정확도"
   ]
  },
  {
   "cell_type": "markdown",
   "id": "1e2ee7d0-b94d-4dc1-a666-c00eab3172c2",
   "metadata": {},
   "source": [
    "# 랜덤 서치"
   ]
  },
  {
   "cell_type": "code",
   "execution_count": 18,
   "id": "7e9f84f9-1227-4704-814b-4d74b9e31faa",
   "metadata": {},
   "outputs": [],
   "source": [
    "from scipy.stats import uniform, randint\n",
    "\n",
    "params = {\n",
    "    'min_impurity_decrease': uniform(0.0001, 0.001)  # 불순도 감소 최소량\n",
    "    , 'max_depth': randint(20, 50)\n",
    "    , 'min_samples_split': randint(2, 25)\n",
    "    , 'min_samples_leaf': randint(1, 25)\n",
    "    }"
   ]
  },
  {
   "cell_type": "code",
   "execution_count": 19,
   "id": "614e6a86-08f0-4236-94e5-510749203930",
   "metadata": {},
   "outputs": [
    {
     "data": {
      "text/plain": [
       "{'max_depth': 39,\n",
       " 'min_impurity_decrease': 0.00034102546602601173,\n",
       " 'min_samples_leaf': 7,\n",
       " 'min_samples_split': 13}"
      ]
     },
     "execution_count": 19,
     "metadata": {},
     "output_type": "execute_result"
    }
   ],
   "source": [
    "from sklearn.model_selection import RandomizedSearchCV\n",
    "rscv = RandomizedSearchCV(\n",
    "    DecisionTreeClassifier(random_state=42)\n",
    "    , params\n",
    "    , n_iter=100    # 샘플링 횟수\n",
    "    , n_jobs=-1\n",
    "    , random_state=42)\n",
    "\n",
    "rscv.fit(xtrain, ytrain)\n",
    "\n",
    "rscv.best_params_  # 하이퍼 파라미터 최적화 값"
   ]
  },
  {
   "cell_type": "code",
   "execution_count": 20,
   "id": "ef4b9751-4024-41fe-9afb-1a75ebb8a3b0",
   "metadata": {},
   "outputs": [
    {
     "data": {
      "text/plain": [
       "array([0.86511513, 0.86261235, 0.86838528, 0.86588547, 0.86376731,\n",
       "       0.86434497, 0.86280503, 0.86280484, 0.86357592, 0.86357555,\n",
       "       0.86280503, 0.8626142 , 0.86472977, 0.86954283, 0.86203543,\n",
       "       0.86761827, 0.86222884, 0.86473033, 0.86877082, 0.86184423,\n",
       "       0.86126657, 0.86511494, 0.8626142 , 0.86203543, 0.86511476,\n",
       "       0.86607722, 0.86222773, 0.86684682, 0.86261309, 0.86338436,\n",
       "       0.8629977 , 0.86242171, 0.86184478, 0.86165211, 0.86049808,\n",
       "       0.86530706, 0.86280521, 0.86684775, 0.86203524, 0.86318983,\n",
       "       0.86780947, 0.86761624, 0.86126694, 0.86934867, 0.86857889,\n",
       "       0.86530743, 0.86434497, 0.86415303, 0.86838602, 0.86530688,\n",
       "       0.86145813, 0.86684626, 0.8618446 , 0.86145961, 0.86338454,\n",
       "       0.86569131, 0.86242152, 0.86376805, 0.86203543, 0.86376916,\n",
       "       0.86511457, 0.86184275, 0.86338454, 0.86242004, 0.86107481,\n",
       "       0.86203654, 0.86184478, 0.86434552, 0.86184478, 0.86338473,\n",
       "       0.86299993, 0.8641534 , 0.86338269, 0.85972662, 0.86415303,\n",
       "       0.86665433, 0.86261253, 0.86222884, 0.86858111, 0.86472903,\n",
       "       0.86242097, 0.86261457, 0.86742448, 0.86434497, 0.86684682,\n",
       "       0.86184423, 0.86107481, 0.86877193, 0.86338362, 0.86242171,\n",
       "       0.8674243 , 0.86222773, 0.86242004, 0.86415414, 0.86376805,\n",
       "       0.86261272, 0.86184478, 0.86357518, 0.86203635, 0.86203691])"
      ]
     },
     "execution_count": 20,
     "metadata": {},
     "output_type": "execute_result"
    }
   ],
   "source": [
    "rscv.cv_results_['mean_test_score']    # 교차 검증 점수(cv=5)"
   ]
  },
  {
   "cell_type": "code",
   "execution_count": 21,
   "id": "6f0288f9-23f1-4f70-ae11-bdd4aea425ae",
   "metadata": {},
   "outputs": [
    {
     "data": {
      "text/plain": [
       "0.8695428296438884"
      ]
     },
     "execution_count": 21,
     "metadata": {},
     "output_type": "execute_result"
    }
   ],
   "source": [
    "np.max(rscv.cv_results_['mean_test_score'])    # 최적화 교차 검증 점수(cv=5)"
   ]
  },
  {
   "cell_type": "code",
   "execution_count": 22,
   "id": "64b102de-0abf-41cd-9cb0-b5d1836ba13f",
   "metadata": {},
   "outputs": [],
   "source": [
    "dtc = rscv.best_estimator_    # 하이퍼 파라미터 최적화 값 모델 저장"
   ]
  },
  {
   "cell_type": "code",
   "execution_count": 23,
   "id": "cbb196ee-d29e-42b3-81a4-1965493a63f7",
   "metadata": {},
   "outputs": [
    {
     "data": {
      "text/plain": [
       "0.86"
      ]
     },
     "execution_count": 23,
     "metadata": {},
     "output_type": "execute_result"
    }
   ],
   "source": [
    "dtc.score( xtest, ytest )              # 테스트 데이터 정확도"
   ]
  },
  {
   "cell_type": "code",
   "execution_count": 24,
   "id": "47c17828-03c8-4030-8627-11db73e39f1c",
   "metadata": {},
   "outputs": [
    {
     "data": {
      "text/plain": [
       "0.8928227823744468"
      ]
     },
     "execution_count": 24,
     "metadata": {},
     "output_type": "execute_result"
    }
   ],
   "source": [
    "dtc.score( xtrain, ytrain )              # 테스트 데이터 정확도"
   ]
  },
  {
   "cell_type": "code",
   "execution_count": null,
   "id": "0e75df3b-201b-401f-a613-d45657963c09",
   "metadata": {},
   "outputs": [],
   "source": []
  }
 ],
 "metadata": {
  "kernelspec": {
   "display_name": "Python 3 (ipykernel)",
   "language": "python",
   "name": "python3"
  },
  "language_info": {
   "codemirror_mode": {
    "name": "ipython",
    "version": 3
   },
   "file_extension": ".py",
   "mimetype": "text/x-python",
   "name": "python",
   "nbconvert_exporter": "python",
   "pygments_lexer": "ipython3",
   "version": "3.8.13"
  }
 },
 "nbformat": 4,
 "nbformat_minor": 5
}
