{
 "cells": [
  {
   "cell_type": "code",
   "execution_count": 1,
   "id": "9859ac0b-84ba-40f7-a9cf-8b561f63a5a3",
   "metadata": {},
   "outputs": [],
   "source": [
    "import pandas as pd\n",
    "import numpy as np\n",
    "import matplotlib.pyplot as plt"
   ]
  },
  {
   "cell_type": "code",
   "execution_count": 2,
   "id": "5c123e3d-6d20-46a2-ac0d-298c2006568d",
   "metadata": {},
   "outputs": [],
   "source": [
    "from sklearn.preprocessing import StandardScaler, MinMaxScaler\n",
    "from sklearn.preprocessing import LabelEncoder, OneHotEncoder\n",
    "from sklearn.model_selection import train_test_split, cross_val_score\n",
    "\n",
    "# 모델 학습\n",
    "from sklearn.neighbors import KNeighborsRegressor\n",
    "from sklearn.linear_model import LinearRegression, Ridge, Lasso\n",
    "from sklearn.preprocessing import PolynomialFeatures\n",
    "from sklearn.linear_model import SGDRegressor\n",
    "\n",
    "from sklearn.linear_model import LogisticRegression\n",
    "from sklearn.naive_bayes import MultinomialNB\n",
    "from sklearn.svm import SVC\n",
    "from sklearn.tree import DecisionTreeClassifier\n",
    "from sklearn.neighbors import KNeighborsClassifier\n",
    "\n",
    "from sklearn.ensemble import RandomForestClassifier, VotingClassifier, BaggingClassifier\n",
    "from sklearn.ensemble import AdaBoostClassifier, GradientBoostingClassifier\n",
    "from xgboost import XGBClassifier\n",
    "from lightgbm import LGBMClassifier\n",
    "\n",
    "from sklearn.cluster import KMeans\n",
    "\n",
    "from sklearn.decomposition import PCA\n",
    "\n",
    "# 성능 평가\n",
    "from sklearn.metrics import confusion_matrix\n",
    "from sklearn.metrics import accuracy_score, precision_score, recall_score\n",
    "from sklearn.metrics import roc_auc_score\n",
    "\n",
    "from sklearn.metrics import mean_squared_error, r2_score\n",
    "\n",
    "from sklearn.metrics import silhouette_score\n",
    "\n",
    "# 경고 메세지 숨김\n",
    "import warnings     \n",
    "warnings.filterwarnings('ignore')"
   ]
  },
  {
   "cell_type": "markdown",
   "id": "91c5d27d-bb2b-4920-9903-b0154f66bd40",
   "metadata": {},
   "source": [
    "## 테이블 열기"
   ]
  },
  {
   "cell_type": "code",
   "execution_count": 3,
   "id": "f79bedfd-bcb4-4d05-9c4a-26e4647c0a6e",
   "metadata": {},
   "outputs": [
    {
     "data": {
      "text/html": [
       "<div>\n",
       "<style scoped>\n",
       "    .dataframe tbody tr th:only-of-type {\n",
       "        vertical-align: middle;\n",
       "    }\n",
       "\n",
       "    .dataframe tbody tr th {\n",
       "        vertical-align: top;\n",
       "    }\n",
       "\n",
       "    .dataframe thead th {\n",
       "        text-align: right;\n",
       "    }\n",
       "</style>\n",
       "<table border=\"1\" class=\"dataframe\">\n",
       "  <thead>\n",
       "    <tr style=\"text-align: right;\">\n",
       "      <th></th>\n",
       "      <th>Species</th>\n",
       "      <th>Weight</th>\n",
       "      <th>Length</th>\n",
       "      <th>Diagonal</th>\n",
       "      <th>Height</th>\n",
       "      <th>Width</th>\n",
       "    </tr>\n",
       "  </thead>\n",
       "  <tbody>\n",
       "    <tr>\n",
       "      <th>0</th>\n",
       "      <td>Bream</td>\n",
       "      <td>242.0</td>\n",
       "      <td>25.4</td>\n",
       "      <td>30.0</td>\n",
       "      <td>11.5200</td>\n",
       "      <td>4.0200</td>\n",
       "    </tr>\n",
       "    <tr>\n",
       "      <th>1</th>\n",
       "      <td>Bream</td>\n",
       "      <td>290.0</td>\n",
       "      <td>26.3</td>\n",
       "      <td>31.2</td>\n",
       "      <td>12.4800</td>\n",
       "      <td>4.3056</td>\n",
       "    </tr>\n",
       "    <tr>\n",
       "      <th>2</th>\n",
       "      <td>Bream</td>\n",
       "      <td>340.0</td>\n",
       "      <td>26.5</td>\n",
       "      <td>31.1</td>\n",
       "      <td>12.3778</td>\n",
       "      <td>4.6961</td>\n",
       "    </tr>\n",
       "    <tr>\n",
       "      <th>3</th>\n",
       "      <td>Bream</td>\n",
       "      <td>363.0</td>\n",
       "      <td>29.0</td>\n",
       "      <td>33.5</td>\n",
       "      <td>12.7300</td>\n",
       "      <td>4.4555</td>\n",
       "    </tr>\n",
       "    <tr>\n",
       "      <th>4</th>\n",
       "      <td>Bream</td>\n",
       "      <td>430.0</td>\n",
       "      <td>29.0</td>\n",
       "      <td>34.0</td>\n",
       "      <td>12.4440</td>\n",
       "      <td>5.1340</td>\n",
       "    </tr>\n",
       "  </tbody>\n",
       "</table>\n",
       "</div>"
      ],
      "text/plain": [
       "  Species  Weight  Length  Diagonal   Height   Width\n",
       "0   Bream   242.0    25.4      30.0  11.5200  4.0200\n",
       "1   Bream   290.0    26.3      31.2  12.4800  4.3056\n",
       "2   Bream   340.0    26.5      31.1  12.3778  4.6961\n",
       "3   Bream   363.0    29.0      33.5  12.7300  4.4555\n",
       "4   Bream   430.0    29.0      34.0  12.4440  5.1340"
      ]
     },
     "execution_count": 3,
     "metadata": {},
     "output_type": "execute_result"
    }
   ],
   "source": [
    "fish = pd.read_csv('https://bit.ly/fish_csv_data')\n",
    "fish[:5]"
   ]
  },
  {
   "cell_type": "code",
   "execution_count": 4,
   "id": "d8fcba1d-79e5-4c5c-87f0-281ed67247ff",
   "metadata": {},
   "outputs": [],
   "source": [
    "# 특성\n",
    "fish_data = fish.iloc[:, 1:]\n",
    "\n",
    "# 타겟\n",
    "fish_target = fish.iloc[:, 0]"
   ]
  },
  {
   "cell_type": "code",
   "execution_count": 5,
   "id": "9123ca2d-07b2-4da5-85b9-7cdbc4fda632",
   "metadata": {},
   "outputs": [
    {
     "data": {
      "text/html": [
       "<div>\n",
       "<style scoped>\n",
       "    .dataframe tbody tr th:only-of-type {\n",
       "        vertical-align: middle;\n",
       "    }\n",
       "\n",
       "    .dataframe tbody tr th {\n",
       "        vertical-align: top;\n",
       "    }\n",
       "\n",
       "    .dataframe thead th {\n",
       "        text-align: right;\n",
       "    }\n",
       "</style>\n",
       "<table border=\"1\" class=\"dataframe\">\n",
       "  <thead>\n",
       "    <tr style=\"text-align: right;\">\n",
       "      <th></th>\n",
       "      <th>Weight</th>\n",
       "      <th>Length</th>\n",
       "      <th>Diagonal</th>\n",
       "      <th>Height</th>\n",
       "      <th>Width</th>\n",
       "    </tr>\n",
       "  </thead>\n",
       "  <tbody>\n",
       "    <tr>\n",
       "      <th>0</th>\n",
       "      <td>242.0</td>\n",
       "      <td>25.4</td>\n",
       "      <td>30.0</td>\n",
       "      <td>11.5200</td>\n",
       "      <td>4.0200</td>\n",
       "    </tr>\n",
       "    <tr>\n",
       "      <th>1</th>\n",
       "      <td>290.0</td>\n",
       "      <td>26.3</td>\n",
       "      <td>31.2</td>\n",
       "      <td>12.4800</td>\n",
       "      <td>4.3056</td>\n",
       "    </tr>\n",
       "    <tr>\n",
       "      <th>2</th>\n",
       "      <td>340.0</td>\n",
       "      <td>26.5</td>\n",
       "      <td>31.1</td>\n",
       "      <td>12.3778</td>\n",
       "      <td>4.6961</td>\n",
       "    </tr>\n",
       "    <tr>\n",
       "      <th>3</th>\n",
       "      <td>363.0</td>\n",
       "      <td>29.0</td>\n",
       "      <td>33.5</td>\n",
       "      <td>12.7300</td>\n",
       "      <td>4.4555</td>\n",
       "    </tr>\n",
       "    <tr>\n",
       "      <th>4</th>\n",
       "      <td>430.0</td>\n",
       "      <td>29.0</td>\n",
       "      <td>34.0</td>\n",
       "      <td>12.4440</td>\n",
       "      <td>5.1340</td>\n",
       "    </tr>\n",
       "  </tbody>\n",
       "</table>\n",
       "</div>"
      ],
      "text/plain": [
       "   Weight  Length  Diagonal   Height   Width\n",
       "0   242.0    25.4      30.0  11.5200  4.0200\n",
       "1   290.0    26.3      31.2  12.4800  4.3056\n",
       "2   340.0    26.5      31.1  12.3778  4.6961\n",
       "3   363.0    29.0      33.5  12.7300  4.4555\n",
       "4   430.0    29.0      34.0  12.4440  5.1340"
      ]
     },
     "execution_count": 5,
     "metadata": {},
     "output_type": "execute_result"
    }
   ],
   "source": [
    "# 특성 확인\n",
    "fish_data.head()"
   ]
  },
  {
   "cell_type": "code",
   "execution_count": 6,
   "id": "11fffb31-3738-4345-9fd2-21efd2cf9682",
   "metadata": {
    "collapsed": true,
    "jupyter": {
     "outputs_hidden": true
    },
    "tags": []
   },
   "outputs": [
    {
     "data": {
      "text/plain": [
       "Perch        56\n",
       "Bream        35\n",
       "Roach        20\n",
       "Pike         17\n",
       "Smelt        14\n",
       "Parkki       11\n",
       "Whitefish     6\n",
       "Name: Species, dtype: int64"
      ]
     },
     "execution_count": 6,
     "metadata": {},
     "output_type": "execute_result"
    }
   ],
   "source": [
    "# 타겟 확인\n",
    "fish_target.value_counts()"
   ]
  },
  {
   "cell_type": "markdown",
   "id": "bb34d91f-d517-4825-869c-e860bdf38fca",
   "metadata": {},
   "source": [
    "# 데이터 분할"
   ]
  },
  {
   "cell_type": "code",
   "execution_count": 25,
   "id": "4fa83f3e-8c8c-45ec-bf1f-35868ba3bc22",
   "metadata": {},
   "outputs": [],
   "source": [
    "data = fish_data       # 특성(5개)\n",
    "target = fish_target     # 정답(7개)\n",
    "\n",
    "xtrain, xtest, ytrain, ytest = train_test_split(\n",
    " \n",
    "    data, target             # x: 특성, y: 정답\n",
    "    , test_size = 0.25       # 테스트 데이터 비율(0~1)\n",
    "#    , stratify = target      # 계층화(훈련＆테스트 데이터 비율: x=y)\n",
    "    , random_state = 42     # 랜덤 시드\n",
    "    )"
   ]
  },
  {
   "cell_type": "markdown",
   "id": "5d9b17d2-eea7-4e8a-b3f9-057568e40691",
   "metadata": {},
   "source": [
    "# 데이터 스케일링(표준화)"
   ]
  },
  {
   "cell_type": "code",
   "execution_count": 8,
   "id": "3896eb27-d85b-4d70-a25a-dbf05243d097",
   "metadata": {},
   "outputs": [],
   "source": [
    "ss = StandardScaler()\n",
    "\n",
    "xtrain_scaled = ss.fit_transform(xtrain)    # 훈련 데이터 → 표준화\n",
    "xtest_scaled = ss.transform(xtest)          # 테스트 데이터 → 표준화"
   ]
  },
  {
   "cell_type": "markdown",
   "id": "75fd4ffb-5984-481a-8e17-555db33b4480",
   "metadata": {},
   "source": [
    "# K-최근접 이웃"
   ]
  },
  {
   "cell_type": "code",
   "execution_count": 9,
   "id": "9cb3054d-5b8f-4472-bde6-73ec4aaec923",
   "metadata": {},
   "outputs": [
    {
     "data": {
      "text/plain": [
       "array(['Bream', 'Parkki', 'Perch', 'Pike', 'Roach', 'Smelt', 'Whitefish'],\n",
       "      dtype=object)"
      ]
     },
     "execution_count": 9,
     "metadata": {},
     "output_type": "execute_result"
    }
   ],
   "source": [
    "knc = KNeighborsClassifier(\n",
    "    n_neighbors = 3    # 하이퍼 파라미터\n",
    "    )\n",
    "\n",
    "# (분류)변수.fit(xtrain, ytrain)        # 모델 학습\n",
    "knc.fit(xtrain_scaled, ytrain)   # 모델 학습(스케일링)\n",
    "\n",
    "knc.classes_  # 타겟 목록"
   ]
  },
  {
   "cell_type": "code",
   "execution_count": 10,
   "id": "00d1c90f-4583-4f6c-ad2b-1e5724aa90bb",
   "metadata": {},
   "outputs": [
    {
     "data": {
      "text/plain": [
       "0.8907563025210085"
      ]
     },
     "execution_count": 10,
     "metadata": {},
     "output_type": "execute_result"
    }
   ],
   "source": [
    "knc.score( xtrain_scaled, ytrain )     # 훈련 데이터 정확도(스케일링)"
   ]
  },
  {
   "cell_type": "code",
   "execution_count": 11,
   "id": "b1b7afa0-737b-47b4-8c9f-8fb75eb91252",
   "metadata": {},
   "outputs": [
    {
     "data": {
      "text/plain": [
       "0.85"
      ]
     },
     "execution_count": 11,
     "metadata": {},
     "output_type": "execute_result"
    }
   ],
   "source": [
    "knc.score( xtest_scaled, ytest )       # 테스트 데이터 정확도(스케일링)"
   ]
  },
  {
   "cell_type": "code",
   "execution_count": 12,
   "id": "865031bf-8a8e-4729-8587-46a877b02dfd",
   "metadata": {},
   "outputs": [
    {
     "data": {
      "text/plain": [
       "array(['Perch', 'Smelt', 'Pike', 'Perch', 'Perch'], dtype=object)"
      ]
     },
     "execution_count": 12,
     "metadata": {},
     "output_type": "execute_result"
    }
   ],
   "source": [
    "# 예측\n",
    "knc.predict( xtest_scaled[:5] )"
   ]
  },
  {
   "cell_type": "code",
   "execution_count": 13,
   "id": "c7119972-3c55-4e57-8f49-71d1ae74c328",
   "metadata": {},
   "outputs": [
    {
     "data": {
      "text/plain": [
       "array([[0.    , 0.    , 1.    , 0.    , 0.    , 0.    , 0.    ],\n",
       "       [0.    , 0.    , 0.    , 0.    , 0.    , 1.    , 0.    ],\n",
       "       [0.    , 0.    , 0.    , 1.    , 0.    , 0.    , 0.    ],\n",
       "       [0.    , 0.    , 0.6667, 0.    , 0.3333, 0.    , 0.    ],\n",
       "       [0.    , 0.    , 0.6667, 0.    , 0.3333, 0.    , 0.    ]])"
      ]
     },
     "execution_count": 13,
     "metadata": {},
     "output_type": "execute_result"
    }
   ],
   "source": [
    "# 예측 확률\n",
    "proba = knc.predict_proba( xtest_scaled[:5] )\n",
    "\n",
    "# 소수점 반올림\n",
    "np.round(proba, decimals=4)"
   ]
  },
  {
   "cell_type": "code",
   "execution_count": 19,
   "id": "d45137d3-3473-40fd-bc19-5f4ac7063094",
   "metadata": {},
   "outputs": [
    {
     "data": {
      "text/plain": [
       "(array([[0.20774583, 0.24862983, 0.33682411]]), array([[104, 115, 106]]))"
      ]
     },
     "execution_count": 19,
     "metadata": {},
     "output_type": "execute_result"
    }
   ],
   "source": [
    "knc.kneighbors(xtest_scaled[3:4])    # ("
   ]
  },
  {
   "cell_type": "code",
   "execution_count": 18,
   "id": "1e34f1ea-60d2-4cf2-8e70-5f2d8e14d5db",
   "metadata": {},
   "outputs": [],
   "source": [
    "# distances, indexes = knc.kneighbors(xtest_scaled[3:4])    # ( 최근접 이웃까지의 거리, 최근접 이웃 인덱스 )\n",
    "# ytrain[indexes]"
   ]
  },
  {
   "cell_type": "code",
   "execution_count": 14,
   "id": "0a4b2c58-5fc8-4a81-8225-e4ca6a79d254",
   "metadata": {},
   "outputs": [
    {
     "data": {
      "text/plain": [
       "(array([[0.13880285, 0.15188629, 0.15908025],\n",
       "        [0.07310337, 0.10341686, 0.11506625],\n",
       "        [0.63337713, 0.80646808, 0.82050896],\n",
       "        [0.20774583, 0.24862983, 0.33682411],\n",
       "        [0.17898697, 0.1859878 , 0.19013472]]),\n",
       " array([[ 39,  64,  63],\n",
       "        [ 93,  99,  43],\n",
       "        [100, 105,  27],\n",
       "        [104, 115, 106],\n",
       "        [ 72,  26,  68]]))"
      ]
     },
     "execution_count": 14,
     "metadata": {},
     "output_type": "execute_result"
    }
   ],
   "source": [
    "knc.kneighbors(xtest_scaled[:5])    # ( 최근접 이웃까지의 거리, 최근접 이웃 인덱스 )"
   ]
  },
  {
   "cell_type": "code",
   "execution_count": null,
   "id": "64e4f568-dbbc-463f-9376-f2932df3c1f2",
   "metadata": {},
   "outputs": [],
   "source": []
  }
 ],
 "metadata": {
  "kernelspec": {
   "display_name": "Python 3 (ipykernel)",
   "language": "python",
   "name": "python3"
  },
  "language_info": {
   "codemirror_mode": {
    "name": "ipython",
    "version": 3
   },
   "file_extension": ".py",
   "mimetype": "text/x-python",
   "name": "python",
   "nbconvert_exporter": "python",
   "pygments_lexer": "ipython3",
   "version": "3.8.13"
  }
 },
 "nbformat": 4,
 "nbformat_minor": 5
}
