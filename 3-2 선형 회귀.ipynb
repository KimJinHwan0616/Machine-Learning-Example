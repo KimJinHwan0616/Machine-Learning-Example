{
 "cells": [
  {
   "cell_type": "code",
   "execution_count": 1,
   "id": "4f77a5ff-b0ab-4933-abe1-bf16ac281972",
   "metadata": {},
   "outputs": [],
   "source": [
    "import pandas as pd\n",
    "import numpy as np\n",
    "import matplotlib.pyplot as plt"
   ]
  },
  {
   "cell_type": "code",
   "execution_count": 2,
   "id": "d4b3f842-937e-4156-be82-af2622f01000",
   "metadata": {},
   "outputs": [],
   "source": [
    "from sklearn.preprocessing import StandardScaler, MinMaxScaler\n",
    "from sklearn.preprocessing import LabelEncoder, OneHotEncoder\n",
    "from sklearn.model_selection import train_test_split, cross_val_score\n",
    "\n",
    "# 모델 학습\n",
    "from sklearn.linear_model import LinearRegression, SGDRegressor\n",
    "from sklearn.neighbors import KNeighborsRegressor\n",
    "\n",
    "from sklearn.linear_model import LogisticRegression\n",
    "from sklearn.naive_bayes import MultinomialNB\n",
    "from sklearn.svm import SVC\n",
    "from sklearn.tree import DecisionTreeClassifier\n",
    "from sklearn.neighbors import KNeighborsClassifier\n",
    "\n",
    "from sklearn.ensemble import RandomForestClassifier, VotingClassifier, BaggingClassifier\n",
    "from sklearn.ensemble import AdaBoostClassifier, GradientBoostingClassifier\n",
    "from xgboost import XGBClassifier\n",
    "from lightgbm import LGBMClassifier\n",
    "\n",
    "from sklearn.cluster import KMeans\n",
    "\n",
    "from sklearn.decomposition import PCA\n",
    "\n",
    "# 성능 평가\n",
    "from sklearn.metrics import confusion_matrix\n",
    "from sklearn.metrics import accuracy_score, precision_score, recall_score\n",
    "from sklearn.metrics import roc_auc_score\n",
    "\n",
    "from sklearn.metrics import mean_squared_error, r2_score\n",
    "\n",
    "from sklearn.metrics import silhouette_score\n",
    "\n",
    "# 경고 메세지 숨김\n",
    "import warnings     \n",
    "warnings.filterwarnings('ignore')"
   ]
  },
  {
   "cell_type": "code",
   "execution_count": 3,
   "id": "b46241b3-abbc-490e-923f-8225f51043aa",
   "metadata": {},
   "outputs": [],
   "source": [
    "# 농어 길이, 무게\n",
    "perch_length = [8.4, 13.7, 15.0, 16.2, 17.4, 18.0, 18.7, 19.0, 19.6, 20.0, 21.0,\n",
    "       21.0, 21.0, 21.3, 22.0, 22.0, 22.0, 22.0, 22.0, 22.5, 22.5, 22.7,\n",
    "       23.0, 23.5, 24.0, 24.0, 24.6, 25.0, 25.6, 26.5, 27.3, 27.5, 27.5,\n",
    "       27.5, 28.0, 28.7, 30.0, 32.8, 34.5, 35.0, 36.5, 36.0, 37.0, 37.0,\n",
    "       39.0, 39.0, 39.0, 40.0, 40.0, 40.0, 40.0, 42.0, 43.0, 43.0, 43.5,\n",
    "       44.0]\n",
    "\n",
    "perch_weight = [5.9, 32.0, 40.0, 51.5, 70.0, 100.0, 78.0, 80.0, 85.0, 85.0, 110.0,\n",
    "       115.0, 125.0, 130.0, 120.0, 120.0, 130.0, 135.0, 110.0, 130.0,\n",
    "       150.0, 145.0, 150.0, 170.0, 225.0, 145.0, 188.0, 180.0, 197.0,\n",
    "       218.0, 300.0, 260.0, 265.0, 250.0, 250.0, 300.0, 320.0, 514.0,\n",
    "       556.0, 840.0, 685.0, 700.0, 700.0, 690.0, 900.0, 650.0, 820.0,\n",
    "       850.0, 900.0, 1015.0, 820.0, 1100.0, 1000.0, 1100.0, 1000.0,\n",
    "       1000.0]"
   ]
  },
  {
   "cell_type": "markdown",
   "id": "739357f8-9375-443c-8fb6-1561ded6ecea",
   "metadata": {},
   "source": [
    "# 산점도"
   ]
  },
  {
   "cell_type": "code",
   "execution_count": 4,
   "id": "41b9169d-adbf-4ae5-9012-fec7ebb566c4",
   "metadata": {},
   "outputs": [
    {
     "data": {
      "image/png": "[encoded data removed]",
      "text/plain": [
       "<Figure size 432x288 with 1 Axes>"
      ]
     },
     "metadata": {
      "needs_background": "light"
     },
     "output_type": "display_data"
    }
   ],
   "source": [
    "plt.scatter(perch_length, perch_weight)\n",
    "plt.xlabel('length')\n",
    "plt.ylabel('weight')\n",
    "plt.show()"
   ]
  },
  {
   "cell_type": "markdown",
   "id": "0bb6ed64-9e25-4fed-be3f-e7dcc6c0bdf8",
   "metadata": {},
   "source": [
    "# 데이터 분할"
   ]
  },
  {
   "cell_type": "code",
   "execution_count": 5,
   "id": "6983c08c-73d0-4229-bae7-54d6dc96869c",
   "metadata": {},
   "outputs": [
    {
     "name": "stdout",
     "output_type": "stream",
     "text": [
      "(42, 1) (14, 1)\n"
     ]
    }
   ],
   "source": [
    "data = np.array( perch_length )       # 독립변수\n",
    "target = np.array( perch_weight )     # 종속변수\n",
    "\n",
    "xtrain, xtest, ytrain, ytest = train_test_split(\n",
    "    data, target             # x: 독립변수, y: 종속변수＆정답\n",
    "    , random_state = 42     # 랜덤 시드\n",
    "    )\n",
    "\n",
    "xtrain = xtrain.reshape(-1,1)\n",
    "xtest = xtest.reshape(-1,1)\n",
    "\n",
    "print(xtrain.shape, xtest.shape)"
   ]
  },
  {
   "cell_type": "markdown",
   "id": "c6ad9c32-0d32-4600-9a9e-c0808f9cc7bf",
   "metadata": {},
   "source": [
    "# K-최근접 이웃 - 단점\n",
    "+ 훈련 데이터 범위 밖의 샘플 예측X"
   ]
  },
  {
   "cell_type": "code",
   "execution_count": 6,
   "id": "14a7e31b-d43d-4370-9633-d211464de3ce",
   "metadata": {},
   "outputs": [
    {
     "name": "stdout",
     "output_type": "stream",
     "text": [
      "[1033.33333333]\n",
      "[1033.33333333]\n"
     ]
    }
   ],
   "source": [
    "knr = KNeighborsRegressor(\n",
    "    n_neighbors = 3    # 하이퍼 파라미터\n",
    "    )     # 모델 생성\n",
    "\n",
    "knr.fit( xtrain, ytrain )    # 모델 학습\n",
    "\n",
    "# 훈련 데이터 범위 이탈\n",
    "print(knr.predict([[50]]))\n",
    "print(knr.predict([[100]]))"
   ]
  },
  {
   "cell_type": "markdown",
   "id": "d8932d8b-9a22-4622-807e-4a4110d2e97f",
   "metadata": {},
   "source": [
    "### 산점도"
   ]
  },
  {
   "cell_type": "code",
   "execution_count": 14,
   "id": "821c16d3-c436-42d2-b1c4-b7cfa21d624c",
   "metadata": {},
   "outputs": [
    {
     "data": {
      "image/png": "[encoded data removed]",
      "text/plain": [
       "<Figure size 432x288 with 1 Axes>"
      ]
     },
     "metadata": {
      "needs_background": "light"
     },
     "output_type": "display_data"
    }
   ],
   "source": [
    "distances, indexes = knr.kneighbors([[50]]) # 50cm 농어 - 최근접 이웃까지의 거리, 최근접 이웃 인덱스\n",
    "\n",
    "plt.scatter(xtrain, ytrain)\n",
    "\n",
    "plt.scatter(xtrain[indexes], ytrain[indexes], marker='D') # 50cm 농어 - 최근접 이웃\n",
    "\n",
    "plt.scatter(50, 1033, marker='^') # 50cm 농어 데이터\n",
    "\n",
    "plt.xlabel('length')\n",
    "plt.ylabel('weight')\n",
    "plt.show()"
   ]
  },
  {
   "cell_type": "markdown",
   "id": "ef1953eb-a1c7-4d75-aa0c-acc521f6a0a3",
   "metadata": {},
   "source": [
    "# 선형 회귀"
   ]
  },
  {
   "cell_type": "code",
   "execution_count": 15,
   "id": "5abbc361-3410-4862-90eb-40ccd89386a4",
   "metadata": {},
   "outputs": [
    {
     "name": "stdout",
     "output_type": "stream",
     "text": [
      "[39.01714496] -709.0186449535477\n"
     ]
    }
   ],
   "source": [
    "lr = LinearRegression()     # 모델 생성\n",
    "\n",
    "lr.fit( xtrain, ytrain )    # 모델 학습\n",
    "\n",
    "# (회귀)변수.score( xtrain, ytrain )    # 훈련 데이터 정확도(≒결정계수)\n",
    "# (회귀)변수.score( xtest, ytest )      # 테스트 데이터 정확도(≒결정계수)\n",
    "\n",
    "# lr.coef_          # 기울기  \n",
    "# lr.intercept_     # 절편\n",
    "\n",
    "print(lr.coef_, lr.intercept_)"
   ]
  },
  {
   "cell_type": "code",
   "execution_count": 17,
   "id": "4e3111ff-05a0-4129-b157-f4054692ec5c",
   "metadata": {},
   "outputs": [
    {
     "data": {
      "text/plain": [
       "array([1241.83860323])"
      ]
     },
     "execution_count": 17,
     "metadata": {},
     "output_type": "execute_result"
    }
   ],
   "source": [
    "lr.predict([[50]])"
   ]
  },
  {
   "cell_type": "code",
   "execution_count": 8,
   "id": "6358a804-29f2-4be2-b085-e811a9e534f6",
   "metadata": {},
   "outputs": [
    {
     "data": {
      "text/plain": [
       "0.939846333997604"
      ]
     },
     "execution_count": 8,
     "metadata": {},
     "output_type": "execute_result"
    }
   ],
   "source": [
    "lr.score( xtrain, ytrain )    # 훈련 데이터 정확도(≒결정계수)"
   ]
  },
  {
   "cell_type": "code",
   "execution_count": 9,
   "id": "012e2786-7356-450c-82fd-8129054afb4a",
   "metadata": {},
   "outputs": [
    {
     "data": {
      "text/plain": [
       "0.8247503123313558"
      ]
     },
     "execution_count": 9,
     "metadata": {},
     "output_type": "execute_result"
    }
   ],
   "source": [
    "lr.score( xtest, ytest )      # 테스트 데이터 정확도(≒결정계수)"
   ]
  },
  {
   "cell_type": "markdown",
   "id": "ece3dc66-19f3-4b77-8347-15b29ada6298",
   "metadata": {},
   "source": [
    "### 과소적합"
   ]
  }
 ],
 "metadata": {
  "kernelspec": {
   "display_name": "Python 3 (ipykernel)",
   "language": "python",
   "name": "python3"
  },
  "language_info": {
   "codemirror_mode": {
    "name": "ipython",
    "version": 3
   },
   "file_extension": ".py",
   "mimetype": "text/x-python",
   "name": "python",
   "nbconvert_exporter": "python",
   "pygments_lexer": "ipython3",
   "version": "3.8.13"
  }
 },
 "nbformat": 4,
 "nbformat_minor": 5
}
