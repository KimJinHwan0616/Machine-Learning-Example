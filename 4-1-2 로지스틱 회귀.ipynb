{
 "cells": [
  {
   "cell_type": "code",
   "execution_count": 1,
   "id": "595238f0-144c-45a6-8379-ad3c69f35851",
   "metadata": {},
   "outputs": [],
   "source": [
    "import pandas as pd\n",
    "import numpy as np\n",
    "import matplotlib.pyplot as plt\n",
    "\n",
    "#   패키지 설치\n",
    "#   pip install sklearn\n",
    "\n",
    "from sklearn.preprocessing import StandardScaler, MinMaxScaler\n",
    "from sklearn.preprocessing import LabelEncoder, OneHotEncoder\n",
    "from sklearn.model_selection import train_test_split\n",
    "\n",
    "# 모델 학습\n",
    "from sklearn.neighbors import KNeighborsRegressor\n",
    "from sklearn.linear_model import LinearRegression, Ridge, Lasso\n",
    "from sklearn.preprocessing import PolynomialFeatures\n",
    "from sklearn.linear_model import SGDRegressor\n",
    "\n",
    "from sklearn.linear_model import LogisticRegression\n",
    "from sklearn.linear_model import SGDClassifier\n",
    "from sklearn.naive_bayes import MultinomialNB\n",
    "from sklearn.svm import SVC\n",
    "from sklearn.tree import DecisionTreeClassifier\n",
    "from sklearn.neighbors import KNeighborsClassifier\n",
    "\n",
    "from sklearn.ensemble import VotingClassifier, BaggingClassifier\n",
    "from sklearn.ensemble import RandomForestClassifier, ExtraTreesClassifier\n",
    "\n",
    "from sklearn.ensemble import AdaBoostClassifier, GradientBoostingClassifier, HistGradientBoostingClassifier\n",
    "from xgboost import XGBClassifier\n",
    "from lightgbm import LGBMClassifier\n",
    "\n",
    "from sklearn.cluster import KMeans\n",
    "from sklearn.decomposition import PCA\n",
    "\n",
    "# 성능 조절\n",
    "from sklearn.model_selection import cross_validate, StratifiedKFold, KFold\n",
    "from sklearn.model_selection import GridSearchCV, RandomizedSearchCV\n",
    "from scipy.stats import uniform, randint\n",
    "\n",
    "# 성능 평가\n",
    "from sklearn.metrics import confusion_matrix\n",
    "from sklearn.metrics import accuracy_score, precision_score, recall_score\n",
    "from sklearn.metrics import roc_auc_score\n",
    "\n",
    "from sklearn.metrics import mean_squared_error, r2_score\n",
    "\n",
    "from sklearn.metrics import silhouette_score\n",
    "\n",
    "# 경고 메세지 숨김\n",
    "import warnings     \n",
    "warnings.filterwarnings('ignore')"
   ]
  },
  {
   "cell_type": "markdown",
   "id": "f152665f-b807-4eaf-969b-697575f8773d",
   "metadata": {
    "tags": []
   },
   "source": [
    "## 테이블 열기"
   ]
  },
  {
   "cell_type": "code",
   "execution_count": 2,
   "id": "01ffe591-6540-4064-a732-eb478ac37f30",
   "metadata": {},
   "outputs": [
    {
     "data": {
      "text/html": [
       "<div>\n",
       "<style scoped>\n",
       "    .dataframe tbody tr th:only-of-type {\n",
       "        vertical-align: middle;\n",
       "    }\n",
       "\n",
       "    .dataframe tbody tr th {\n",
       "        vertical-align: top;\n",
       "    }\n",
       "\n",
       "    .dataframe thead th {\n",
       "        text-align: right;\n",
       "    }\n",
       "</style>\n",
       "<table border=\"1\" class=\"dataframe\">\n",
       "  <thead>\n",
       "    <tr style=\"text-align: right;\">\n",
       "      <th></th>\n",
       "      <th>Species</th>\n",
       "      <th>Weight</th>\n",
       "      <th>Length</th>\n",
       "      <th>Diagonal</th>\n",
       "      <th>Height</th>\n",
       "      <th>Width</th>\n",
       "    </tr>\n",
       "  </thead>\n",
       "  <tbody>\n",
       "    <tr>\n",
       "      <th>0</th>\n",
       "      <td>Bream</td>\n",
       "      <td>242.0</td>\n",
       "      <td>25.4</td>\n",
       "      <td>30.0</td>\n",
       "      <td>11.5200</td>\n",
       "      <td>4.0200</td>\n",
       "    </tr>\n",
       "    <tr>\n",
       "      <th>1</th>\n",
       "      <td>Bream</td>\n",
       "      <td>290.0</td>\n",
       "      <td>26.3</td>\n",
       "      <td>31.2</td>\n",
       "      <td>12.4800</td>\n",
       "      <td>4.3056</td>\n",
       "    </tr>\n",
       "    <tr>\n",
       "      <th>2</th>\n",
       "      <td>Bream</td>\n",
       "      <td>340.0</td>\n",
       "      <td>26.5</td>\n",
       "      <td>31.1</td>\n",
       "      <td>12.3778</td>\n",
       "      <td>4.6961</td>\n",
       "    </tr>\n",
       "    <tr>\n",
       "      <th>3</th>\n",
       "      <td>Bream</td>\n",
       "      <td>363.0</td>\n",
       "      <td>29.0</td>\n",
       "      <td>33.5</td>\n",
       "      <td>12.7300</td>\n",
       "      <td>4.4555</td>\n",
       "    </tr>\n",
       "    <tr>\n",
       "      <th>4</th>\n",
       "      <td>Bream</td>\n",
       "      <td>430.0</td>\n",
       "      <td>29.0</td>\n",
       "      <td>34.0</td>\n",
       "      <td>12.4440</td>\n",
       "      <td>5.1340</td>\n",
       "    </tr>\n",
       "  </tbody>\n",
       "</table>\n",
       "</div>"
      ],
      "text/plain": [
       "  Species  Weight  Length  Diagonal   Height   Width\n",
       "0   Bream   242.0    25.4      30.0  11.5200  4.0200\n",
       "1   Bream   290.0    26.3      31.2  12.4800  4.3056\n",
       "2   Bream   340.0    26.5      31.1  12.3778  4.6961\n",
       "3   Bream   363.0    29.0      33.5  12.7300  4.4555\n",
       "4   Bream   430.0    29.0      34.0  12.4440  5.1340"
      ]
     },
     "execution_count": 2,
     "metadata": {},
     "output_type": "execute_result"
    }
   ],
   "source": [
    "fish = pd.read_csv('https://bit.ly/fish_csv_data')\n",
    "fish[:5]"
   ]
  },
  {
   "cell_type": "code",
   "execution_count": 3,
   "id": "e19d0cfd-44fb-4345-bafc-683ece6ccb21",
   "metadata": {},
   "outputs": [],
   "source": [
    "# 특성\n",
    "fish_data = fish.iloc[:, 1:]\n",
    "\n",
    "# 타겟\n",
    "fish_target = fish.iloc[:, 0]"
   ]
  },
  {
   "cell_type": "code",
   "execution_count": 4,
   "id": "d1707eb1-7990-4989-b05f-f16a7418d85b",
   "metadata": {},
   "outputs": [
    {
     "data": {
      "text/html": [
       "<div>\n",
       "<style scoped>\n",
       "    .dataframe tbody tr th:only-of-type {\n",
       "        vertical-align: middle;\n",
       "    }\n",
       "\n",
       "    .dataframe tbody tr th {\n",
       "        vertical-align: top;\n",
       "    }\n",
       "\n",
       "    .dataframe thead th {\n",
       "        text-align: right;\n",
       "    }\n",
       "</style>\n",
       "<table border=\"1\" class=\"dataframe\">\n",
       "  <thead>\n",
       "    <tr style=\"text-align: right;\">\n",
       "      <th></th>\n",
       "      <th>Weight</th>\n",
       "      <th>Length</th>\n",
       "      <th>Diagonal</th>\n",
       "      <th>Height</th>\n",
       "      <th>Width</th>\n",
       "    </tr>\n",
       "  </thead>\n",
       "  <tbody>\n",
       "    <tr>\n",
       "      <th>0</th>\n",
       "      <td>242.0</td>\n",
       "      <td>25.4</td>\n",
       "      <td>30.0</td>\n",
       "      <td>11.5200</td>\n",
       "      <td>4.0200</td>\n",
       "    </tr>\n",
       "    <tr>\n",
       "      <th>1</th>\n",
       "      <td>290.0</td>\n",
       "      <td>26.3</td>\n",
       "      <td>31.2</td>\n",
       "      <td>12.4800</td>\n",
       "      <td>4.3056</td>\n",
       "    </tr>\n",
       "    <tr>\n",
       "      <th>2</th>\n",
       "      <td>340.0</td>\n",
       "      <td>26.5</td>\n",
       "      <td>31.1</td>\n",
       "      <td>12.3778</td>\n",
       "      <td>4.6961</td>\n",
       "    </tr>\n",
       "    <tr>\n",
       "      <th>3</th>\n",
       "      <td>363.0</td>\n",
       "      <td>29.0</td>\n",
       "      <td>33.5</td>\n",
       "      <td>12.7300</td>\n",
       "      <td>4.4555</td>\n",
       "    </tr>\n",
       "    <tr>\n",
       "      <th>4</th>\n",
       "      <td>430.0</td>\n",
       "      <td>29.0</td>\n",
       "      <td>34.0</td>\n",
       "      <td>12.4440</td>\n",
       "      <td>5.1340</td>\n",
       "    </tr>\n",
       "  </tbody>\n",
       "</table>\n",
       "</div>"
      ],
      "text/plain": [
       "   Weight  Length  Diagonal   Height   Width\n",
       "0   242.0    25.4      30.0  11.5200  4.0200\n",
       "1   290.0    26.3      31.2  12.4800  4.3056\n",
       "2   340.0    26.5      31.1  12.3778  4.6961\n",
       "3   363.0    29.0      33.5  12.7300  4.4555\n",
       "4   430.0    29.0      34.0  12.4440  5.1340"
      ]
     },
     "execution_count": 4,
     "metadata": {},
     "output_type": "execute_result"
    }
   ],
   "source": [
    "# 특성 확인\n",
    "fish_data.head()"
   ]
  },
  {
   "cell_type": "code",
   "execution_count": 5,
   "id": "e4943372-f543-43b2-9667-e10d231cb34b",
   "metadata": {},
   "outputs": [
    {
     "data": {
      "text/plain": [
       "Perch        56\n",
       "Bream        35\n",
       "Roach        20\n",
       "Pike         17\n",
       "Smelt        14\n",
       "Parkki       11\n",
       "Whitefish     6\n",
       "Name: Species, dtype: int64"
      ]
     },
     "execution_count": 5,
     "metadata": {},
     "output_type": "execute_result"
    }
   ],
   "source": [
    "# 타겟 확인\n",
    "fish_target.value_counts()"
   ]
  },
  {
   "cell_type": "markdown",
   "id": "75d64eae-a3d1-40dd-95bc-df992f2546f8",
   "metadata": {},
   "source": [
    "# 데이터 분할"
   ]
  },
  {
   "cell_type": "code",
   "execution_count": 6,
   "id": "ff0de755-3249-45ae-95e5-6ae5d64ac882",
   "metadata": {},
   "outputs": [],
   "source": [
    "data = fish_data       # 특성\n",
    "target = fish_target     # 정답\n",
    "\n",
    "xtrain, xtest, ytrain, ytest = train_test_split(\n",
    " \n",
    "    data, target             # x: 특성, y: 정답\n",
    "    , test_size = 0.25       # 테스트 데이터 비율(0~1)\n",
    "#    , stratify = target      # 계층화(훈련＆테스트 데이터 비율: x=y)\n",
    "    , random_state = 42     # 랜덤 시드\n",
    "    )"
   ]
  },
  {
   "cell_type": "markdown",
   "id": "7d499b92-10cb-4825-9dd5-01d93accacd6",
   "metadata": {},
   "source": [
    "# 데이터 스케일링(표준화)"
   ]
  },
  {
   "cell_type": "code",
   "execution_count": 7,
   "id": "6011ec4f-d3ec-4237-b4a5-67e9a688f060",
   "metadata": {},
   "outputs": [],
   "source": [
    "ss = StandardScaler()\n",
    "\n",
    "xtrain_scaled = ss.fit_transform(xtrain)    # 훈련 데이터 → 표준화\n",
    "xtest_scaled = ss.transform(xtest)          # 테스트 데이터 → 표준화"
   ]
  },
  {
   "cell_type": "markdown",
   "id": "5fff14d1-2597-4bcc-b461-bbbd1428dec2",
   "metadata": {},
   "source": [
    "# 로지스틱 회귀(이진 분류)"
   ]
  },
  {
   "cell_type": "code",
   "execution_count": 8,
   "id": "0f5c4e69-2a00-4678-81e3-f669ef61f88d",
   "metadata": {},
   "outputs": [],
   "source": [
    "# 타겟 - 도미, 빙어\n",
    "bream_smelt = (ytrain == 'Bream') | (ytrain == 'Smelt')\n",
    "\n",
    "xtrain_bream_smelt = xtrain_scaled[bream_smelt]\n",
    "ytrain_bream_smelt = ytrain[bream_smelt]"
   ]
  },
  {
   "cell_type": "code",
   "execution_count": 9,
   "id": "f0a8b581-f1eb-466d-9e29-e9a224810f57",
   "metadata": {},
   "outputs": [
    {
     "data": {
      "text/plain": [
       "array(['Bream', 'Smelt'], dtype=object)"
      ]
     },
     "execution_count": 9,
     "metadata": {},
     "output_type": "execute_result"
    }
   ],
   "source": [
    "lr = LogisticRegression()                               # 모델 생성\n",
    "\n",
    "# (분류)변수.fit( xtrain, ytrain )              # 모델 학습\n",
    "lr.fit( xtrain_bream_smelt, ytrain_bream_smelt )         # 모델 학습(스케일링)\n",
    "\n",
    "# (분류)변수.score( xtrain, ytrain )            # 훈련 데이터 정확도\n",
    "# (분류)변수.score( xtest, ytest )              # 테스트 데이터 정확도\n",
    "\n",
    "# (분류)변수.score( xtrain_scaled, ytrain )     # 훈련 데이터 정확도(스케일링)\n",
    "# (분류)변수.score( xtest_scaled, ytest )       # 테스트 데이터 정확도(스케일링)\n",
    "\n",
    "# (분류)변수.classes_       # 타겟 목록??\n",
    "# (분류)변수.predict_proba( xtest_scaled )      # 타겟 예측 확률\n",
    "\n",
    "lr.classes_  # 타겟 목록"
   ]
  },
  {
   "cell_type": "code",
   "execution_count": 10,
   "id": "05e2ae99-3b5f-4151-b133-87caf6d48a23",
   "metadata": {},
   "outputs": [
    {
     "data": {
      "text/plain": [
       "array(['Bream', 'Smelt', 'Bream', 'Bream', 'Bream'], dtype=object)"
      ]
     },
     "execution_count": 10,
     "metadata": {},
     "output_type": "execute_result"
    }
   ],
   "source": [
    "lr.predict( xtrain_bream_smelt[:5] )"
   ]
  },
  {
   "cell_type": "code",
   "execution_count": 11,
   "id": "5e28620c-e62e-41ad-ab31-4251aed0a3a7",
   "metadata": {},
   "outputs": [
    {
     "data": {
      "text/plain": [
       "array([[0.99759855, 0.00240145],\n",
       "       [0.02735183, 0.97264817],\n",
       "       [0.99486072, 0.00513928],\n",
       "       [0.98584202, 0.01415798],\n",
       "       [0.99767269, 0.00232731]])"
      ]
     },
     "execution_count": 11,
     "metadata": {},
     "output_type": "execute_result"
    }
   ],
   "source": [
    "lr.predict_proba( xtrain_bream_smelt[:5] )"
   ]
  },
  {
   "cell_type": "markdown",
   "id": "7aaec40f-bdfe-4705-a277-5dab104ce2b8",
   "metadata": {},
   "source": [
    "# 시그모이드 함수"
   ]
  },
  {
   "cell_type": "code",
   "execution_count": 12,
   "id": "d79bf5b2-e9fd-4469-a2fd-47f3e5d5001e",
   "metadata": {},
   "outputs": [
    {
     "name": "stdout",
     "output_type": "stream",
     "text": [
      "[[-0.4037798  -0.57620209 -0.66280298 -1.01290277 -0.73168947]] [-2.16155132]\n"
     ]
    }
   ],
   "source": [
    "print( lr.coef_, lr.intercept_ )"
   ]
  },
  {
   "cell_type": "code",
   "execution_count": 13,
   "id": "a725cdb8-33f9-45d5-a21f-3e3d34ca34b3",
   "metadata": {},
   "outputs": [
    {
     "data": {
      "text/plain": [
       "array([-6.02927744,  3.57123907, -5.26568906, -4.24321775, -6.0607117 ])"
      ]
     },
     "execution_count": 13,
     "metadata": {},
     "output_type": "execute_result"
    }
   ],
   "source": [
    "# z값(선형방정식)\n",
    "lr.decision_function( xtrain_bream_smelt[:5] )"
   ]
  },
  {
   "cell_type": "code",
   "execution_count": 14,
   "id": "d9b24216-55b4-4870-b3a2-936c677afe24",
   "metadata": {},
   "outputs": [
    {
     "data": {
      "text/plain": [
       "array([0.00240145, 0.97264817, 0.00513928, 0.01415798, 0.00232731])"
      ]
     },
     "execution_count": 14,
     "metadata": {},
     "output_type": "execute_result"
    }
   ],
   "source": [
    "# z값 -> 시그모이드\n",
    "from scipy.special import expit\n",
    "expit( lr.decision_function( xtrain_bream_smelt[:5] ) )"
   ]
  },
  {
   "cell_type": "markdown",
   "id": "56352a4b-6ac1-49b5-9872-1a0d553c937c",
   "metadata": {},
   "source": [
    "# 로지스틱 회귀(다중 분류)"
   ]
  },
  {
   "cell_type": "code",
   "execution_count": 15,
   "id": "9b823efb-5e9f-4c7a-b796-6ac62b5f12e7",
   "metadata": {},
   "outputs": [
    {
     "data": {
      "text/plain": [
       "array(['Bream', 'Parkki', 'Perch', 'Pike', 'Roach', 'Smelt', 'Whitefish'],\n",
       "      dtype=object)"
      ]
     },
     "execution_count": 15,
     "metadata": {},
     "output_type": "execute_result"
    }
   ],
   "source": [
    "lr = LogisticRegression(\n",
    "    C = 20            # 하이퍼 파라미터\n",
    "    , max_iter = 1000\n",
    ")\n",
    "\n",
    "# lr.coef_         # 기울기\n",
    "# lr.intercept_    # 절편                               \n",
    "\n",
    "# (분류)변수.fit( xtrain, ytrain )              # 모델 학습\n",
    "lr.fit( xtrain_scaled, ytrain )         # 모델 학습(스케일링)\n",
    "\n",
    "# (분류)변수.score( xtrain, ytrain )            # 훈련 데이터 정확도\n",
    "# (분류)변수.score( xtest, ytest )              # 테스트 데이터 정확도\n",
    "\n",
    "lr.classes_       # 타겟 목록"
   ]
  },
  {
   "cell_type": "code",
   "execution_count": 16,
   "id": "d85c7582-197d-427d-a74f-84184b97711e",
   "metadata": {},
   "outputs": [
    {
     "data": {
      "text/plain": [
       "0.9327731092436975"
      ]
     },
     "execution_count": 16,
     "metadata": {},
     "output_type": "execute_result"
    }
   ],
   "source": [
    "lr.score( xtrain_scaled, ytrain )     # 훈련 데이터 정확도(스케일링)"
   ]
  },
  {
   "cell_type": "code",
   "execution_count": 17,
   "id": "c633fd88-f5d6-4eda-a876-22061ea9a2e8",
   "metadata": {},
   "outputs": [
    {
     "data": {
      "text/plain": [
       "0.925"
      ]
     },
     "execution_count": 17,
     "metadata": {},
     "output_type": "execute_result"
    }
   ],
   "source": [
    "lr.score( xtest_scaled, ytest )       # 테스트 데이터 정확도(스케일링)"
   ]
  },
  {
   "cell_type": "code",
   "execution_count": 18,
   "id": "8b9c3a41-30f7-4851-9e76-604d5321f9bc",
   "metadata": {},
   "outputs": [
    {
     "data": {
      "text/plain": [
       "array(['Perch', 'Smelt', 'Pike', 'Roach', 'Perch'], dtype=object)"
      ]
     },
     "execution_count": 18,
     "metadata": {},
     "output_type": "execute_result"
    }
   ],
   "source": [
    "# 예측\n",
    "lr.predict( xtest_scaled[:5] )"
   ]
  },
  {
   "cell_type": "code",
   "execution_count": 19,
   "id": "6c250399-dc81-4c73-aeb8-3fa01700462b",
   "metadata": {},
   "outputs": [
    {
     "data": {
      "text/plain": [
       "array([[0.   , 0.014, 0.841, 0.   , 0.136, 0.007, 0.003],\n",
       "       [0.   , 0.003, 0.044, 0.   , 0.007, 0.946, 0.   ],\n",
       "       [0.   , 0.   , 0.034, 0.935, 0.015, 0.016, 0.   ],\n",
       "       [0.011, 0.034, 0.306, 0.007, 0.567, 0.   , 0.076],\n",
       "       [0.   , 0.   , 0.904, 0.002, 0.089, 0.002, 0.001]])"
      ]
     },
     "execution_count": 19,
     "metadata": {},
     "output_type": "execute_result"
    }
   ],
   "source": [
    "proba = lr.predict_proba( xtest_scaled[:5] )      # 타겟 예측 확률\n",
    "np.round(proba, decimals=3)"
   ]
  },
  {
   "cell_type": "markdown",
   "id": "f40cdff7-05fe-419f-a209-70bb6304b704",
   "metadata": {},
   "source": [
    "# 소프트맥스 함수"
   ]
  },
  {
   "cell_type": "code",
   "execution_count": 20,
   "id": "2c6b2335-ddb4-4ee5-b09f-a1cc42d7a07d",
   "metadata": {},
   "outputs": [
    {
     "name": "stdout",
     "output_type": "stream",
     "text": [
      "[[-1.49002465 -1.02915033  2.59347373  7.70356653 -1.20069469]\n",
      " [ 0.19618504 -2.01065738 -3.7797884   6.50490975 -1.99484019]\n",
      " [ 3.56279355  6.343586   -8.48971913 -5.75757009  3.79307946]\n",
      " [-0.10458098  3.60318511  3.93067682 -3.61734668 -1.75069896]\n",
      " [-1.40060785 -6.07504053  5.25968833 -0.87221069  1.86043573]\n",
      " [-1.38526797  1.49215576  1.39226981 -5.67733578 -4.40096933]\n",
      " [ 0.62150286 -2.32407863 -0.90660116  1.71598695  3.69368798]] [-0.09205087 -0.26290884  3.25101307 -0.14743221  2.65497631 -6.78781848\n",
      "  1.38422102]\n",
      "(7, 5) (7,)\n"
     ]
    }
   ],
   "source": [
    "print(lr.coef_, lr.intercept_)\n",
    "print(lr.coef_.shape, lr.intercept_.shape)"
   ]
  },
  {
   "cell_type": "code",
   "execution_count": 21,
   "id": "32027885-e8e0-427d-80dd-48dec48f2fdf",
   "metadata": {},
   "outputs": [
    {
     "data": {
      "text/plain": [
       "array([[ -6.49809703,   1.03224223,   5.16361628,  -2.72867779,\n",
       "          3.33888351,   0.32650921,  -0.63447641],\n",
       "       [-10.85946393,   1.92721051,   4.77097878,  -2.39849854,\n",
       "          2.97811596,   7.84131255,  -4.25965533],\n",
       "       [ -4.33528446,  -6.23306253,   3.17445488,   6.48668696,\n",
       "          2.35757423,   2.42118037,  -3.87154945],\n",
       "       [ -0.68335973,   0.45272685,   2.64700088,  -1.1866764 ,\n",
       "          3.26453577,  -5.75274473,   1.25851735],\n",
       "       [ -6.39706271,  -1.99273317,   5.81573446,  -0.11035964,\n",
       "          3.50283425,  -0.11162293,  -0.70679027]])"
      ]
     },
     "execution_count": 21,
     "metadata": {},
     "output_type": "execute_result"
    }
   ],
   "source": [
    "# z값(선형방정식)\n",
    "lr.decision_function( xtest_scaled[:5] )"
   ]
  },
  {
   "cell_type": "code",
   "execution_count": 22,
   "id": "eb71e5be-08f7-42c6-aff0-6b030183fafd",
   "metadata": {},
   "outputs": [
    {
     "data": {
      "text/plain": [
       "array([[0.   , 0.014, 0.841, 0.   , 0.136, 0.007, 0.003],\n",
       "       [0.   , 0.003, 0.044, 0.   , 0.007, 0.946, 0.   ],\n",
       "       [0.   , 0.   , 0.034, 0.935, 0.015, 0.016, 0.   ],\n",
       "       [0.011, 0.034, 0.306, 0.007, 0.567, 0.   , 0.076],\n",
       "       [0.   , 0.   , 0.904, 0.002, 0.089, 0.002, 0.001]])"
      ]
     },
     "execution_count": 22,
     "metadata": {},
     "output_type": "execute_result"
    }
   ],
   "source": [
    "# z값 -> 시그모이드\n",
    "from scipy.special import softmax\n",
    "proba = softmax( lr.decision_function( xtest_scaled[:5] ), axis=1 )\n",
    "np.round(proba, decimals=3)"
   ]
  },
  {
   "cell_type": "markdown",
   "id": "4c51e4b8-0997-4ff5-8ae6-788f17a074c0",
   "metadata": {
    "tags": []
   },
   "source": [
    "## 그리드 서치"
   ]
  },
  {
   "cell_type": "code",
   "execution_count": 50,
   "id": "73dab483-3f02-4c81-92f0-35e96eb06b32",
   "metadata": {},
   "outputs": [
    {
     "data": {
      "text/plain": [
       "array(['Bream', 'Parkki', 'Perch', 'Pike', 'Roach', 'Smelt', 'Whitefish'],\n",
       "      dtype=object)"
      ]
     },
     "execution_count": 50,
     "metadata": {},
     "output_type": "execute_result"
    }
   ],
   "source": [
    "lr = LogisticRegression()\n",
    "\n",
    "# lr.coef_         # 기울기\n",
    "# lr.intercept_    # 절편                               \n",
    "\n",
    "# (분류)변수.fit( xtrain, ytrain )              # 모델 학습\n",
    "lr.fit( xtrain_scaled, ytrain )         # 모델 학습(스케일링)\n",
    "\n",
    "# (분류)변수.score( xtrain, ytrain )            # 훈련 데이터 정확도\n",
    "# (분류)변수.score( xtest, ytest )              # 테스트 데이터 정확도\n",
    "\n",
    "lr.classes_       # 타겟 목록"
   ]
  },
  {
   "cell_type": "code",
   "execution_count": 51,
   "id": "79c7c235-a500-4ce8-b7b7-744584e27456",
   "metadata": {},
   "outputs": [
    {
     "data": {
      "text/plain": [
       "{'C': 11, 'max_iter': 100}"
      ]
     },
     "execution_count": 51,
     "metadata": {},
     "output_type": "execute_result"
    }
   ],
   "source": [
    "from sklearn.model_selection import GridSearchCV\n",
    "\n",
    "params = {\n",
    "    'C': np.arange(1, 20+1),\n",
    "    'max_iter': np.arange(100, 1000+1, 100)\n",
    "    }\n",
    "\n",
    "gscv = GridSearchCV(\n",
    "    lr       # 모델\n",
    "    , params        # 하이퍼 파라미터 목록\n",
    "    , cv = 5        # 교차 검증 횟수(K번)\n",
    "    , scoring = 'accuracy'         # 평가 지표(정확도)\n",
    "    , return_train_score = True    # 훈련 데이터 정확도 추가\n",
    "    , n_jobs = -1    # 사용할 CPU 코어 개수(-1: 모두, 1: 한 개)\n",
    "    )\n",
    "\n",
    "# gscv.fit(xtrain, ytrain)\n",
    "gscv.fit(xtrain_scaled, ytrain)\n",
    "\n",
    "lr = gscv.best_estimator_    # 하이퍼 파라미터 최적화 값 저장\n",
    "gscv.best_params_    # 하이퍼 파라미터 최적화 값"
   ]
  },
  {
   "cell_type": "code",
   "execution_count": 25,
   "id": "ccf1f0ae-c8e2-4c1e-8e13-54c5ded2bdfe",
   "metadata": {},
   "outputs": [
    {
     "data": {
      "text/plain": [
       "array([0.78913043, 0.79818841, 0.81521739, 0.84057971, 0.84891304,\n",
       "       0.84891304, 0.86594203, 0.88297101, 0.89130435, 0.89130435,\n",
       "       0.89963768, 0.89963768, 0.89963768, 0.89963768, 0.89963768,\n",
       "       0.89963768, 0.89963768, 0.89963768, 0.89963768, 0.89963768])"
      ]
     },
     "execution_count": 25,
     "metadata": {},
     "output_type": "execute_result"
    }
   ],
   "source": [
    "gscv.cv_results_['mean_test_score']            # 하이퍼 파라미터 교차 검증 정확도"
   ]
  },
  {
   "cell_type": "code",
   "execution_count": 26,
   "id": "75e31dba-3fb7-4ea6-a1fd-15285ae9f421",
   "metadata": {},
   "outputs": [
    {
     "data": {
      "text/plain": [
       "0.8996376811594203"
      ]
     },
     "execution_count": 26,
     "metadata": {},
     "output_type": "execute_result"
    }
   ],
   "source": [
    "np.max(gscv.cv_results_['mean_test_score'])    # 하이퍼 파라미터 최적화 교차 검증 정확도"
   ]
  },
  {
   "cell_type": "code",
   "execution_count": 52,
   "id": "f3bfbb91-c0be-4c1f-b0bc-8c5de478133c",
   "metadata": {},
   "outputs": [
    {
     "data": {
      "text/plain": [
       "0.9159663865546218"
      ]
     },
     "execution_count": 52,
     "metadata": {},
     "output_type": "execute_result"
    }
   ],
   "source": [
    "lr.score( xtrain_scaled, ytrain )     # 훈련 데이터 정확도(스케일링)"
   ]
  },
  {
   "cell_type": "code",
   "execution_count": 53,
   "id": "d5335651-49f2-4ba7-95c9-0ad88b8e675f",
   "metadata": {},
   "outputs": [
    {
     "data": {
      "text/plain": [
       "0.925"
      ]
     },
     "execution_count": 53,
     "metadata": {},
     "output_type": "execute_result"
    }
   ],
   "source": [
    "lr.score( xtest_scaled, ytest )       # 테스트 데이터 정확도(스케일링)"
   ]
  },
  {
   "cell_type": "code",
   "execution_count": null,
   "id": "e09d114b-d079-4b57-a2b1-8c471401cd31",
   "metadata": {},
   "outputs": [],
   "source": []
  }
 ],
 "metadata": {
  "kernelspec": {
   "display_name": "Python 3 (ipykernel)",
   "language": "python",
   "name": "python3"
  },
  "language_info": {
   "codemirror_mode": {
    "name": "ipython",
    "version": 3
   },
   "file_extension": ".py",
   "mimetype": "text/x-python",
   "name": "python",
   "nbconvert_exporter": "python",
   "pygments_lexer": "ipython3",
   "version": "3.8.13"
  }
 },
 "nbformat": 4,
 "nbformat_minor": 5
}
