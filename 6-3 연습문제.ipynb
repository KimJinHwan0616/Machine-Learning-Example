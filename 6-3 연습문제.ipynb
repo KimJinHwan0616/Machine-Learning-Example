{
 "cells": [
  {
   "cell_type": "code",
   "execution_count": 1,
   "id": "b5865830-60f2-4795-bb1c-e1c72381fd1b",
   "metadata": {},
   "outputs": [],
   "source": [
    "import pandas as pd\n",
    "import numpy as np\n",
    "import matplotlib.pyplot as plt\n",
    "\n",
    "#   패키지 설치\n",
    "#   pip install sklearn\n",
    "#   pip install xgboost\n",
    "#   pip install lightgbm\n",
    "\n",
    "# 데이터 전처리\n",
    "from sklearn.preprocessing import StandardScaler, MinMaxScaler\n",
    "from sklearn.preprocessing import LabelEncoder, OneHotEncoder\n",
    "from sklearn.model_selection import train_test_split\n",
    "from sklearn.decomposition import PCA\n",
    "\n",
    "# 지도 학습 - 회귀\n",
    "from sklearn.neighbors import KNeighborsRegressor\n",
    "from sklearn.linear_model import LinearRegression, Ridge, Lasso\n",
    "from sklearn.preprocessing import PolynomialFeatures\n",
    "from sklearn.linear_model import SGDRegressor\n",
    "from sklearn.ensemble import RandomForestRegressor, ExtraTreesRegressor, GradientBoostingRegressor\n",
    "from sklearn.ensemble import GradientBoostingRegressor, HistGradientBoostingRegressor\n",
    "from xgboost import XGBRegressor\n",
    "from lightgbm import LGBMRegressor\n",
    "\n",
    "# 지도 학습 - 분류\n",
    "from sklearn.linear_model import LogisticRegression\n",
    "from sklearn.linear_model import SGDClassifier\n",
    "from sklearn.naive_bayes import MultinomialNB\n",
    "from sklearn.svm import SVC\n",
    "from sklearn.tree import DecisionTreeClassifier\n",
    "from sklearn.neighbors import KNeighborsClassifier\n",
    "\n",
    "from sklearn.ensemble import VotingClassifier, BaggingClassifier\n",
    "from sklearn.ensemble import RandomForestClassifier, ExtraTreesClassifier\n",
    "\n",
    "from sklearn.ensemble import AdaBoostClassifier, GradientBoostingClassifier, HistGradientBoostingClassifier\n",
    "from xgboost import XGBClassifier\n",
    "from lightgbm import LGBMClassifier\n",
    "\n",
    "# 비지도 학습 - 군집\n",
    "from sklearn.cluster import KMeans\n",
    "\n",
    "# 성능 조절\n",
    "from sklearn.model_selection import cross_validate, StratifiedKFold, KFold\n",
    "from sklearn.model_selection import GridSearchCV, RandomizedSearchCV\n",
    "from scipy.stats import uniform, randint\n",
    "\n",
    "# 평가\n",
    "from sklearn.metrics import confusion_matrix\n",
    "from sklearn.metrics import accuracy_score, precision_score, recall_score\n",
    "from sklearn.metrics import roc_auc_score\n",
    "\n",
    "from sklearn.metrics import mean_squared_error, r2_score\n",
    "\n",
    "from sklearn.metrics import silhouette_score\n",
    "\n",
    "# 경고 메세지 숨김\n",
    "import warnings     \n",
    "warnings.filterwarnings('ignore')"
   ]
  },
  {
   "cell_type": "markdown",
   "id": "50996839-c25c-428f-b787-f81648159a75",
   "metadata": {},
   "source": [
    "# 테이블 열기"
   ]
  },
  {
   "cell_type": "code",
   "execution_count": 2,
   "id": "c8139143-7ae4-415f-a96f-0a47c051a09c",
   "metadata": {},
   "outputs": [],
   "source": [
    "from sklearn.datasets import load_iris\n",
    "\n",
    "iris = load_iris()\n",
    "data = iris.data\n",
    "target = iris.target\n",
    "\n",
    "data = StandardScaler().fit_transform(data)    # 표준화"
   ]
  },
  {
   "cell_type": "code",
   "execution_count": 3,
   "id": "1e4957fc-4bd9-45a5-bea8-c7bb0b8dc816",
   "metadata": {},
   "outputs": [],
   "source": [
    "# 소수점\n",
    "np.set_printoptions(formatter={'float_kind':'{:.4f}'.format})"
   ]
  },
  {
   "cell_type": "markdown",
   "id": "1ea2cacc-72a7-42ae-adbc-b4d0fce0390e",
   "metadata": {},
   "source": [
    "# PCA"
   ]
  },
  {
   "cell_type": "code",
   "execution_count": 4,
   "id": "7c24e70f-18e7-490a-976b-a1bc46d06607",
   "metadata": {},
   "outputs": [
    {
     "data": {
      "text/plain": [
       "array([0.7296, 0.2285, 0.0367, 0.0052])"
      ]
     },
     "execution_count": 4,
     "metadata": {},
     "output_type": "execute_result"
    }
   ],
   "source": [
    "pca = PCA(n_components = None)             # 주성분 개수(=축소 시킬 차원 수)\n",
    "# pca = PCA(n_components = None)           # 설명된 분산 비율(0~1) \n",
    "\n",
    "data = pca.fit_transform( data )           # 주성분 분석\n",
    "\n",
    "pca.explained_variance_ratio_              # 설명된 분산 비율\n",
    "# np.sum(pca.explained_variance_ratio_)    # 설명된 분산 총 비율"
   ]
  },
  {
   "cell_type": "code",
   "execution_count": 5,
   "id": "8a5f3925-b2c4-43d7-8c49-e6a3c9a2315e",
   "metadata": {},
   "outputs": [
    {
     "data": {
      "text/plain": [
       "array([2.9381, 0.9202, 0.1477, 0.0209])"
      ]
     },
     "execution_count": 5,
     "metadata": {},
     "output_type": "execute_result"
    }
   ],
   "source": [
    "pca.explained_variance_                   # 설명된 분산"
   ]
  },
  {
   "cell_type": "code",
   "execution_count": 6,
   "id": "ff8ab530-213a-4485-9171-49a92526a5f5",
   "metadata": {},
   "outputs": [
    {
     "data": {
      "text/plain": [
       "array([[0.5211, -0.2693, 0.5804, 0.5649],\n",
       "       [0.3774, 0.9233, 0.0245, 0.0669],\n",
       "       [-0.7196, 0.2444, 0.1421, 0.6343],\n",
       "       [-0.2613, 0.1235, 0.8014, -0.5236]])"
      ]
     },
     "execution_count": 6,
     "metadata": {},
     "output_type": "execute_result"
    }
   ],
   "source": [
    "pca.components_                          # 주성분\n",
    "\n",
    "# pca.inverse_transform( data )            # 차원 축소 전 데이터 특성"
   ]
  }
 ],
 "metadata": {
  "kernelspec": {
   "display_name": "Python 3 (ipykernel)",
   "language": "python",
   "name": "python3"
  },
  "language_info": {
   "codemirror_mode": {
    "name": "ipython",
    "version": 3
   },
   "file_extension": ".py",
   "mimetype": "text/x-python",
   "name": "python",
   "nbconvert_exporter": "python",
   "pygments_lexer": "ipython3",
   "version": "3.8.13"
  }
 },
 "nbformat": 4,
 "nbformat_minor": 5
}
